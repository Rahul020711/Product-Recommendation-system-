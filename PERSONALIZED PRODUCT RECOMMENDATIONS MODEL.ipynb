{
 "cells": [
  {
   "cell_type": "markdown",
   "id": "0c4289e1",
   "metadata": {},
   "source": [
    "# PERSONALIZED PRODUCT RECOMMENDATIONS MODEL FOR FLIPKART GRID 5.0 \n",
    "According to given problem statement We have to  develop a model or system that recommends products based on user preferences, histories, and similarity between users. \n"
   ]
  },
  {
   "cell_type": "code",
   "execution_count": 1,
   "id": "87df96a9",
   "metadata": {},
   "outputs": [],
   "source": [
    "import numpy as np\n",
    "import pandas as pd\n",
    "import matplotlib.pyplot as plt\n",
    "import seaborn as sns"
   ]
  },
  {
   "cell_type": "code",
   "execution_count": 2,
   "id": "3214b39e",
   "metadata": {},
   "outputs": [],
   "source": [
    "import sklearn\n",
    "from sklearn.decomposition import TruncatedSVD"
   ]
  },
  {
   "cell_type": "markdown",
   "id": "914f09f9",
   "metadata": {},
   "source": [
    "# Import dataset \n",
    "We are using a dataset that contains information about fashion products. \n"
   ]
  },
  {
   "cell_type": "code",
   "execution_count": 3,
   "id": "58b1258a",
   "metadata": {},
   "outputs": [],
   "source": [
    "data = pd.read_csv('product_data.csv')"
   ]
  },
  {
   "cell_type": "code",
   "execution_count": 4,
   "id": "98c694d3",
   "metadata": {},
   "outputs": [
    {
     "data": {
      "text/html": [
       "<div>\n",
       "<style scoped>\n",
       "    .dataframe tbody tr th:only-of-type {\n",
       "        vertical-align: middle;\n",
       "    }\n",
       "\n",
       "    .dataframe tbody tr th {\n",
       "        vertical-align: top;\n",
       "    }\n",
       "\n",
       "    .dataframe thead th {\n",
       "        text-align: right;\n",
       "    }\n",
       "</style>\n",
       "<table border=\"1\" class=\"dataframe\">\n",
       "  <thead>\n",
       "    <tr style=\"text-align: right;\">\n",
       "      <th></th>\n",
       "      <th>UserId</th>\n",
       "      <th>ProductId</th>\n",
       "      <th>Rating</th>\n",
       "      <th>subCategory</th>\n",
       "      <th>articleType</th>\n",
       "      <th>baseColour</th>\n",
       "      <th>Timestamp</th>\n",
       "      <th>productDisplayName</th>\n",
       "      <th>Unnamed: 8</th>\n",
       "    </tr>\n",
       "  </thead>\n",
       "  <tbody>\n",
       "    <tr>\n",
       "      <th>0</th>\n",
       "      <td>A39HTATAQ9V7YF</td>\n",
       "      <td>205616461</td>\n",
       "      <td>5</td>\n",
       "      <td>Topwear</td>\n",
       "      <td>Shirts</td>\n",
       "      <td>Navy Blue</td>\n",
       "      <td>1369699200</td>\n",
       "      <td>Turtle Check Men Navy Blue Shirt</td>\n",
       "      <td>NaN</td>\n",
       "    </tr>\n",
       "    <tr>\n",
       "      <th>1</th>\n",
       "      <td>A3JM6GV9MNOF9X</td>\n",
       "      <td>558925278</td>\n",
       "      <td>3</td>\n",
       "      <td>Bottomwear</td>\n",
       "      <td>Jeans</td>\n",
       "      <td>Blue</td>\n",
       "      <td>1355443200</td>\n",
       "      <td>Peter England Men Party Blue Jeans</td>\n",
       "      <td>NaN</td>\n",
       "    </tr>\n",
       "    <tr>\n",
       "      <th>2</th>\n",
       "      <td>A1Z513UWSAAO0F</td>\n",
       "      <td>558925278</td>\n",
       "      <td>5</td>\n",
       "      <td>Watches</td>\n",
       "      <td>Watches</td>\n",
       "      <td>Silver</td>\n",
       "      <td>1404691200</td>\n",
       "      <td>Titan Women Silver Watch</td>\n",
       "      <td>NaN</td>\n",
       "    </tr>\n",
       "    <tr>\n",
       "      <th>3</th>\n",
       "      <td>A1WMRR494NWEWV</td>\n",
       "      <td>733001998</td>\n",
       "      <td>4</td>\n",
       "      <td>Bottomwear</td>\n",
       "      <td>Track Pants</td>\n",
       "      <td>Black</td>\n",
       "      <td>1382572800</td>\n",
       "      <td>Manchester United Men Solid Black Track Pants</td>\n",
       "      <td>NaN</td>\n",
       "    </tr>\n",
       "    <tr>\n",
       "      <th>4</th>\n",
       "      <td>A3IAAVS479H7M7</td>\n",
       "      <td>737104473</td>\n",
       "      <td>1</td>\n",
       "      <td>Topwear</td>\n",
       "      <td>Tshirts</td>\n",
       "      <td>Grey</td>\n",
       "      <td>1274227200</td>\n",
       "      <td>Puma Men Grey T-shirt</td>\n",
       "      <td>NaN</td>\n",
       "    </tr>\n",
       "  </tbody>\n",
       "</table>\n",
       "</div>"
      ],
      "text/plain": [
       "           UserId  ProductId  Rating subCategory  articleType baseColour  \\\n",
       "0  A39HTATAQ9V7YF  205616461       5     Topwear       Shirts  Navy Blue   \n",
       "1  A3JM6GV9MNOF9X  558925278       3  Bottomwear        Jeans       Blue   \n",
       "2  A1Z513UWSAAO0F  558925278       5     Watches      Watches     Silver   \n",
       "3  A1WMRR494NWEWV  733001998       4  Bottomwear  Track Pants      Black   \n",
       "4  A3IAAVS479H7M7  737104473       1     Topwear      Tshirts       Grey   \n",
       "\n",
       "    Timestamp                             productDisplayName Unnamed: 8  \n",
       "0  1369699200               Turtle Check Men Navy Blue Shirt        NaN  \n",
       "1  1355443200             Peter England Men Party Blue Jeans        NaN  \n",
       "2  1404691200                       Titan Women Silver Watch        NaN  \n",
       "3  1382572800  Manchester United Men Solid Black Track Pants        NaN  \n",
       "4  1274227200                          Puma Men Grey T-shirt        NaN  "
      ]
     },
     "execution_count": 4,
     "metadata": {},
     "output_type": "execute_result"
    }
   ],
   "source": [
    "data.head()"
   ]
  },
  {
   "cell_type": "markdown",
   "id": "7528ea3d",
   "metadata": {},
   "source": [
    "# Data Cleaning \n",
    "In order to improve accuracy, data must first be cleaned. Next, missing data in the dataset must be handled. "
   ]
  },
  {
   "cell_type": "code",
   "execution_count": 5,
   "id": "48d09296",
   "metadata": {},
   "outputs": [
    {
     "data": {
      "text/plain": [
       "Index(['UserId', 'ProductId', 'Rating', 'subCategory', 'articleType',\n",
       "       'baseColour', 'Timestamp', 'productDisplayName', 'Unnamed: 8'],\n",
       "      dtype='object')"
      ]
     },
     "execution_count": 5,
     "metadata": {},
     "output_type": "execute_result"
    }
   ],
   "source": [
    "data.columns"
   ]
  },
  {
   "cell_type": "code",
   "execution_count": 6,
   "id": "cf3cdd94",
   "metadata": {},
   "outputs": [],
   "source": [
    "data = data[['UserId', 'ProductId', 'Rating', 'subCategory', 'articleType',\n",
    "       'baseColour', 'productDisplayName']]\n"
   ]
  },
  {
   "cell_type": "code",
   "execution_count": 7,
   "id": "b1aaacb3",
   "metadata": {},
   "outputs": [
    {
     "data": {
      "text/plain": [
       "UserId                0\n",
       "ProductId             0\n",
       "Rating                0\n",
       "subCategory           0\n",
       "articleType           0\n",
       "baseColour            8\n",
       "productDisplayName    3\n",
       "dtype: int64"
      ]
     },
     "execution_count": 7,
     "metadata": {},
     "output_type": "execute_result"
    }
   ],
   "source": [
    "data.isnull().sum()"
   ]
  },
  {
   "cell_type": "code",
   "execution_count": 8,
   "id": "479727af",
   "metadata": {},
   "outputs": [
    {
     "data": {
      "text/html": [
       "<div>\n",
       "<style scoped>\n",
       "    .dataframe tbody tr th:only-of-type {\n",
       "        vertical-align: middle;\n",
       "    }\n",
       "\n",
       "    .dataframe tbody tr th {\n",
       "        vertical-align: top;\n",
       "    }\n",
       "\n",
       "    .dataframe thead th {\n",
       "        text-align: right;\n",
       "    }\n",
       "</style>\n",
       "<table border=\"1\" class=\"dataframe\">\n",
       "  <thead>\n",
       "    <tr style=\"text-align: right;\">\n",
       "      <th></th>\n",
       "      <th>0</th>\n",
       "    </tr>\n",
       "  </thead>\n",
       "  <tbody>\n",
       "    <tr>\n",
       "      <th>UserId</th>\n",
       "      <td>0.000000</td>\n",
       "    </tr>\n",
       "    <tr>\n",
       "      <th>ProductId</th>\n",
       "      <td>0.000000</td>\n",
       "    </tr>\n",
       "    <tr>\n",
       "      <th>Rating</th>\n",
       "      <td>0.000000</td>\n",
       "    </tr>\n",
       "    <tr>\n",
       "      <th>subCategory</th>\n",
       "      <td>0.000000</td>\n",
       "    </tr>\n",
       "    <tr>\n",
       "      <th>articleType</th>\n",
       "      <td>0.000000</td>\n",
       "    </tr>\n",
       "    <tr>\n",
       "      <th>baseColour</th>\n",
       "      <td>0.040002</td>\n",
       "    </tr>\n",
       "    <tr>\n",
       "      <th>productDisplayName</th>\n",
       "      <td>0.015001</td>\n",
       "    </tr>\n",
       "  </tbody>\n",
       "</table>\n",
       "</div>"
      ],
      "text/plain": [
       "                           0\n",
       "UserId              0.000000\n",
       "ProductId           0.000000\n",
       "Rating              0.000000\n",
       "subCategory         0.000000\n",
       "articleType         0.000000\n",
       "baseColour          0.040002\n",
       "productDisplayName  0.015001"
      ]
     },
     "execution_count": 8,
     "metadata": {},
     "output_type": "execute_result"
    }
   ],
   "source": [
    "missing_data = pd.DataFrame(data.isnull().mean()*100)\n",
    "missing_data"
   ]
  },
  {
   "cell_type": "code",
   "execution_count": 9,
   "id": "1f9fd5d7",
   "metadata": {},
   "outputs": [],
   "source": [
    "column_to_check = 'productDisplayName'  # Replace with the actual column name\n",
    "data_without_missing = data.dropna(subset=[column_to_check], inplace=True)\n"
   ]
  },
  {
   "cell_type": "code",
   "execution_count": 10,
   "id": "b37eaf78",
   "metadata": {},
   "outputs": [
    {
     "data": {
      "text/html": [
       "<div>\n",
       "<style scoped>\n",
       "    .dataframe tbody tr th:only-of-type {\n",
       "        vertical-align: middle;\n",
       "    }\n",
       "\n",
       "    .dataframe tbody tr th {\n",
       "        vertical-align: top;\n",
       "    }\n",
       "\n",
       "    .dataframe thead th {\n",
       "        text-align: right;\n",
       "    }\n",
       "</style>\n",
       "<table border=\"1\" class=\"dataframe\">\n",
       "  <thead>\n",
       "    <tr style=\"text-align: right;\">\n",
       "      <th></th>\n",
       "      <th>0</th>\n",
       "    </tr>\n",
       "  </thead>\n",
       "  <tbody>\n",
       "    <tr>\n",
       "      <th>UserId</th>\n",
       "      <td>0.000000</td>\n",
       "    </tr>\n",
       "    <tr>\n",
       "      <th>ProductId</th>\n",
       "      <td>0.000000</td>\n",
       "    </tr>\n",
       "    <tr>\n",
       "      <th>Rating</th>\n",
       "      <td>0.000000</td>\n",
       "    </tr>\n",
       "    <tr>\n",
       "      <th>subCategory</th>\n",
       "      <td>0.000000</td>\n",
       "    </tr>\n",
       "    <tr>\n",
       "      <th>articleType</th>\n",
       "      <td>0.000000</td>\n",
       "    </tr>\n",
       "    <tr>\n",
       "      <th>baseColour</th>\n",
       "      <td>0.030006</td>\n",
       "    </tr>\n",
       "    <tr>\n",
       "      <th>productDisplayName</th>\n",
       "      <td>0.000000</td>\n",
       "    </tr>\n",
       "  </tbody>\n",
       "</table>\n",
       "</div>"
      ],
      "text/plain": [
       "                           0\n",
       "UserId              0.000000\n",
       "ProductId           0.000000\n",
       "Rating              0.000000\n",
       "subCategory         0.000000\n",
       "articleType         0.000000\n",
       "baseColour          0.030006\n",
       "productDisplayName  0.000000"
      ]
     },
     "execution_count": 10,
     "metadata": {},
     "output_type": "execute_result"
    }
   ],
   "source": [
    "missing_data = pd.DataFrame(data.isnull().mean()*100)\n",
    "missing_data"
   ]
  },
  {
   "cell_type": "code",
   "execution_count": 11,
   "id": "51d6bd98",
   "metadata": {},
   "outputs": [
    {
     "data": {
      "text/plain": [
       "(19996, 7)"
      ]
     },
     "execution_count": 11,
     "metadata": {},
     "output_type": "execute_result"
    }
   ],
   "source": [
    "data.shape"
   ]
  },
  {
   "cell_type": "markdown",
   "id": "25e6d7f4",
   "metadata": {},
   "source": [
    "# Exploratory Data Analysis"
   ]
  },
  {
   "cell_type": "code",
   "execution_count": 12,
   "id": "0400b5cd",
   "metadata": {},
   "outputs": [
    {
     "name": "stdout",
     "output_type": "stream",
     "text": [
      "Upper bound: 0        False\n",
      "1        False\n",
      "2        False\n",
      "3        False\n",
      "4        False\n",
      "         ...  \n",
      "19994    False\n",
      "19995    False\n",
      "19996    False\n",
      "19997    False\n",
      "19998    False\n",
      "Name: Rating, Length: 19996, dtype: bool\n",
      "(array([], dtype=int64),)\n",
      "Lower bound: 0        False\n",
      "1        False\n",
      "2        False\n",
      "3        False\n",
      "4         True\n",
      "         ...  \n",
      "19994    False\n",
      "19995    False\n",
      "19996    False\n",
      "19997    False\n",
      "19998     True\n",
      "Name: Rating, Length: 19996, dtype: bool\n",
      "(array([    4,    23,    30, ..., 19977, 19985, 19995], dtype=int64),)\n"
     ]
    },
    {
     "name": "stderr",
     "output_type": "stream",
     "text": [
      "C:\\Users\\rahul\\AppData\\Local\\Temp\\ipykernel_10212\\1517567348.py:1: DeprecationWarning: the `interpolation=` argument to percentile was renamed to `method=`, which has additional options.\n",
      "Users of the modes 'nearest', 'lower', 'higher', or 'midpoint' are encouraged to review the method they used. (Deprecated NumPy 1.22)\n",
      "  Q1 = np.percentile(data['Rating'], 25,\n",
      "C:\\Users\\rahul\\AppData\\Local\\Temp\\ipykernel_10212\\1517567348.py:4: DeprecationWarning: the `interpolation=` argument to percentile was renamed to `method=`, which has additional options.\n",
      "Users of the modes 'nearest', 'lower', 'higher', or 'midpoint' are encouraged to review the method they used. (Deprecated NumPy 1.22)\n",
      "  Q3 = np.percentile(data['Rating'], 75,\n"
     ]
    }
   ],
   "source": [
    "Q1 = np.percentile(data['Rating'], 25,\n",
    "                   interpolation = 'midpoint')\n",
    " \n",
    "Q3 = np.percentile(data['Rating'], 75,\n",
    "                   interpolation = 'midpoint')\n",
    "IQR = Q3 - Q1\n",
    "\n",
    "\n",
    "# Above Upper bound\n",
    "upper = data['Rating'] >= (Q3+1.5*IQR)\n",
    " \n",
    "print(\"Upper bound:\",upper)\n",
    "print(np.where(upper))\n",
    " \n",
    "# Below Lower bound\n",
    "lower = data['Rating'] <= (Q1-1.5*IQR)\n",
    "print(\"Lower bound:\", lower)\n",
    "print(np.where(lower))"
   ]
  },
  {
   "cell_type": "code",
   "execution_count": 13,
   "id": "fc354a67",
   "metadata": {},
   "outputs": [
    {
     "data": {
      "image/png": "[encoded data removed]",
      "text/plain": [
       "<Figure size 1000x600 with 1 Axes>"
      ]
     },
     "metadata": {},
     "output_type": "display_data"
    }
   ],
   "source": [
    "plt.figure(figsize=(10,6))\n",
    "sns.countplot(x='Rating', data=data, palette='winter')\n",
    "plt.xlabel('Rating', fontsize=12)\n",
    "plt.ylabel('Count', fontsize=12)\n",
    "plt.title('Number of Each Rating', fontsize=15)\n",
    "plt.show()"
   ]
  },
  {
   "cell_type": "code",
   "execution_count": 14,
   "id": "ab74f76f",
   "metadata": {},
   "outputs": [
    {
     "name": "stderr",
     "output_type": "stream",
     "text": [
      "C:\\Users\\rahul\\AppData\\Local\\Temp\\ipykernel_10212\\3559885644.py:1: FutureWarning: The default value of numeric_only in DataFrameGroupBy.mean is deprecated. In a future version, numeric_only will default to False. Either specify numeric_only or select only columns which should be valid for the function.\n",
      "  df_rating=pd.DataFrame({'Number of Rating':data.groupby('ProductId').count()['Rating'], 'Mean Rating':data.groupby('ProductId').mean()['Rating']})\n"
     ]
    }
   ],
   "source": [
    "df_rating=pd.DataFrame({'Number of Rating':data.groupby('ProductId').count()['Rating'], 'Mean Rating':data.groupby('ProductId').mean()['Rating']})"
   ]
  },
  {
   "cell_type": "code",
   "execution_count": 15,
   "id": "3f597a6c",
   "metadata": {},
   "outputs": [
    {
     "data": {
      "text/html": [
       "<div>\n",
       "<style scoped>\n",
       "    .dataframe tbody tr th:only-of-type {\n",
       "        vertical-align: middle;\n",
       "    }\n",
       "\n",
       "    .dataframe tbody tr th {\n",
       "        vertical-align: top;\n",
       "    }\n",
       "\n",
       "    .dataframe thead th {\n",
       "        text-align: right;\n",
       "    }\n",
       "</style>\n",
       "<table border=\"1\" class=\"dataframe\">\n",
       "  <thead>\n",
       "    <tr style=\"text-align: right;\">\n",
       "      <th></th>\n",
       "      <th>Number of Rating</th>\n",
       "      <th>Mean Rating</th>\n",
       "    </tr>\n",
       "    <tr>\n",
       "      <th>ProductId</th>\n",
       "      <th></th>\n",
       "      <th></th>\n",
       "    </tr>\n",
       "  </thead>\n",
       "  <tbody>\n",
       "    <tr>\n",
       "      <th>1304139212</th>\n",
       "      <td>1</td>\n",
       "      <td>5.000000</td>\n",
       "    </tr>\n",
       "    <tr>\n",
       "      <th>1304139220</th>\n",
       "      <td>1</td>\n",
       "      <td>5.000000</td>\n",
       "    </tr>\n",
       "    <tr>\n",
       "      <th>130414089X</th>\n",
       "      <td>1</td>\n",
       "      <td>5.000000</td>\n",
       "    </tr>\n",
       "    <tr>\n",
       "      <th>130414643X</th>\n",
       "      <td>3</td>\n",
       "      <td>4.333333</td>\n",
       "    </tr>\n",
       "    <tr>\n",
       "      <th>1304146537</th>\n",
       "      <td>1</td>\n",
       "      <td>5.000000</td>\n",
       "    </tr>\n",
       "  </tbody>\n",
       "</table>\n",
       "</div>"
      ],
      "text/plain": [
       "            Number of Rating  Mean Rating\n",
       "ProductId                                \n",
       "1304139212                 1     5.000000\n",
       "1304139220                 1     5.000000\n",
       "130414089X                 1     5.000000\n",
       "130414643X                 3     4.333333\n",
       "1304146537                 1     5.000000"
      ]
     },
     "execution_count": 15,
     "metadata": {},
     "output_type": "execute_result"
    }
   ],
   "source": [
    "df_rating.head()"
   ]
  },
  {
   "cell_type": "markdown",
   "id": "56a960cd",
   "metadata": {},
   "source": [
    "# Top products based on sales"
   ]
  },
  {
   "cell_type": "code",
   "execution_count": 16,
   "id": "cbc7751d",
   "metadata": {},
   "outputs": [
    {
     "name": "stdout",
     "output_type": "stream",
     "text": [
      "       ProductId  NumRatings subCategory          articleType\n",
      "0     B0000530ED         584     Watches              Watches\n",
      "584   B00004TUBL         558       Shoes         Casual Shoes\n",
      "1142  B0000536P4         442        Bags             Handbags\n",
      "1584  B00005A9WP         430     Topwear              Tshirts\n",
      "2014  B000052YM7         412  Bottomwear                Jeans\n",
      "2426  B000050B6U         376     Topwear               Kurtas\n",
      "2802  B000052YP6         341     Topwear              Tshirts\n",
      "3143  B00005A43X         315   Jewellery  Necklace and Chains\n",
      "3458  B000052YMR         313       Shoes         Sports Shoes\n",
      "3771  B000052XZP         288        Lips             Lipstick\n"
     ]
    }
   ],
   "source": [
    "\n",
    "\n",
    "# Group by 'ProductId' and count the number of ratings for each product\n",
    "popular_products = pd.DataFrame(data.groupby('ProductId')['Rating'].count())\n",
    "popular_products.columns = ['NumRatings']  # Rename the column\n",
    "\n",
    "# Sort products by the number of ratings in descending order\n",
    "most_popular = popular_products.sort_values('NumRatings', ascending=False)\n",
    "\n",
    "# Get the top 10 most popular products\n",
    "top_10_most_popular = most_popular.head(10)\n",
    "\n",
    "# Merge with the original dataset to get additional information\n",
    "top_10_most_popular = top_10_most_popular.merge(data[['ProductId', 'subCategory', 'articleType']], on='ProductId', how='left')\n",
    "\n",
    "# Drop duplicates to ensure each product appears only once\n",
    "top_10_most_popular = top_10_most_popular.drop_duplicates(subset=['ProductId'])\n",
    "\n",
    "print(top_10_most_popular)\n",
    "\n"
   ]
  },
  {
   "cell_type": "code",
   "execution_count": 17,
   "id": "ac32390b",
   "metadata": {},
   "outputs": [
    {
     "data": {
      "text/plain": [
       "<Axes: xlabel='ProductId'>"
      ]
     },
     "execution_count": 17,
     "metadata": {},
     "output_type": "execute_result"
    },
    {
     "data": {
      "image/png": "[encoded data removed]",
      "text/plain": [
       "<Figure size 640x480 with 1 Axes>"
      ]
     },
     "metadata": {},
     "output_type": "display_data"
    }
   ],
   "source": [
    "most_popular.head(30).plot(kind = \"bar\", color='g')"
   ]
  },
  {
   "cell_type": "code",
   "execution_count": 18,
   "id": "6825b437",
   "metadata": {},
   "outputs": [
    {
     "name": "stdout",
     "output_type": "stream",
     "text": [
      "Number of unique users 19098\n"
     ]
    }
   ],
   "source": [
    "print('Number of unique users', len(data['UserId'].unique()))"
   ]
  },
  {
   "cell_type": "code",
   "execution_count": 19,
   "id": "890dc521",
   "metadata": {},
   "outputs": [
    {
     "name": "stdout",
     "output_type": "stream",
     "text": [
      "Number of unique products rated high 1267\n"
     ]
    }
   ],
   "source": [
    "max_ratings1 = data[data['Rating'] >= 4.0]\n",
    "print('Number of unique products rated high',len(max_ratings1['ProductId'].unique()))"
   ]
  },
  {
   "cell_type": "markdown",
   "id": "139b0c1d",
   "metadata": {},
   "source": [
    "# Model Preparation\n",
    "Now we prepare a model and train it by train_data and generate output by test_data"
   ]
  },
  {
   "cell_type": "code",
   "execution_count": 20,
   "id": "976ba3ed",
   "metadata": {},
   "outputs": [],
   "source": [
    "from sklearn.model_selection import train_test_split\n",
    "train_data, test_data = train_test_split(data, test_size = 0.2, random_state=0)"
   ]
  },
  {
   "cell_type": "code",
   "execution_count": 21,
   "id": "2052656b",
   "metadata": {},
   "outputs": [
    {
     "data": {
      "text/html": [
       "<div>\n",
       "<style scoped>\n",
       "    .dataframe tbody tr th:only-of-type {\n",
       "        vertical-align: middle;\n",
       "    }\n",
       "\n",
       "    .dataframe tbody tr th {\n",
       "        vertical-align: top;\n",
       "    }\n",
       "\n",
       "    .dataframe thead th {\n",
       "        text-align: right;\n",
       "    }\n",
       "</style>\n",
       "<table border=\"1\" class=\"dataframe\">\n",
       "  <thead>\n",
       "    <tr style=\"text-align: right;\">\n",
       "      <th></th>\n",
       "      <th>UserId</th>\n",
       "      <th>ProductId</th>\n",
       "      <th>Rating</th>\n",
       "      <th>subCategory</th>\n",
       "      <th>articleType</th>\n",
       "      <th>baseColour</th>\n",
       "      <th>productDisplayName</th>\n",
       "    </tr>\n",
       "  </thead>\n",
       "  <tbody>\n",
       "    <tr>\n",
       "      <th>6489</th>\n",
       "      <td>A2QPJWFX3XT6N7</td>\n",
       "      <td>B000052YJX</td>\n",
       "      <td>5</td>\n",
       "      <td>Topwear</td>\n",
       "      <td>Kurtas</td>\n",
       "      <td>Green</td>\n",
       "      <td>Vishudh Women Printed Green Kurta</td>\n",
       "    </tr>\n",
       "    <tr>\n",
       "      <th>12054</th>\n",
       "      <td>A45P4XG65VISY</td>\n",
       "      <td>B0000530ED</td>\n",
       "      <td>5</td>\n",
       "      <td>Shoes</td>\n",
       "      <td>Flats</td>\n",
       "      <td>Green</td>\n",
       "      <td>Senorita Women Green Sandals</td>\n",
       "    </tr>\n",
       "    <tr>\n",
       "      <th>6279</th>\n",
       "      <td>A1DDOISWL7HABL</td>\n",
       "      <td>B000052YJM</td>\n",
       "      <td>5</td>\n",
       "      <td>Topwear</td>\n",
       "      <td>Sweatshirts</td>\n",
       "      <td>Red</td>\n",
       "      <td>ADIDAS Originals Women Trefoil Hoodie Red Swea...</td>\n",
       "    </tr>\n",
       "    <tr>\n",
       "      <th>11716</th>\n",
       "      <td>A1VR3AUXR1950S</td>\n",
       "      <td>B0000530ED</td>\n",
       "      <td>5</td>\n",
       "      <td>Topwear</td>\n",
       "      <td>Shirts</td>\n",
       "      <td>White</td>\n",
       "      <td>Basics MenNavy Slim Fit Checked Shirt</td>\n",
       "    </tr>\n",
       "    <tr>\n",
       "      <th>8745</th>\n",
       "      <td>A1QZJH9IKOAS9D</td>\n",
       "      <td>B000052YOL</td>\n",
       "      <td>1</td>\n",
       "      <td>Topwear</td>\n",
       "      <td>Kurtas</td>\n",
       "      <td>Orange</td>\n",
       "      <td>Aurelia Women Printed Orange Kurta</td>\n",
       "    </tr>\n",
       "  </tbody>\n",
       "</table>\n",
       "</div>"
      ],
      "text/plain": [
       "               UserId   ProductId  Rating subCategory  articleType baseColour  \\\n",
       "6489   A2QPJWFX3XT6N7  B000052YJX       5     Topwear       Kurtas      Green   \n",
       "12054   A45P4XG65VISY  B0000530ED       5       Shoes        Flats      Green   \n",
       "6279   A1DDOISWL7HABL  B000052YJM       5     Topwear  Sweatshirts        Red   \n",
       "11716  A1VR3AUXR1950S  B0000530ED       5     Topwear       Shirts      White   \n",
       "8745   A1QZJH9IKOAS9D  B000052YOL       1     Topwear       Kurtas     Orange   \n",
       "\n",
       "                                      productDisplayName  \n",
       "6489                   Vishudh Women Printed Green Kurta  \n",
       "12054                       Senorita Women Green Sandals  \n",
       "6279   ADIDAS Originals Women Trefoil Hoodie Red Swea...  \n",
       "11716              Basics MenNavy Slim Fit Checked Shirt  \n",
       "8745                  Aurelia Women Printed Orange Kurta  "
      ]
     },
     "execution_count": 21,
     "metadata": {},
     "output_type": "execute_result"
    }
   ],
   "source": [
    "train_data.head()"
   ]
  },
  {
   "cell_type": "code",
   "execution_count": 22,
   "id": "d0d86d29",
   "metadata": {},
   "outputs": [
    {
     "data": {
      "text/plain": [
       "(15996, 7)"
      ]
     },
     "execution_count": 22,
     "metadata": {},
     "output_type": "execute_result"
    }
   ],
   "source": [
    "train_data.shape"
   ]
  },
  {
   "cell_type": "code",
   "execution_count": 23,
   "id": "46b14013",
   "metadata": {},
   "outputs": [
    {
     "data": {
      "text/html": [
       "<div>\n",
       "<style scoped>\n",
       "    .dataframe tbody tr th:only-of-type {\n",
       "        vertical-align: middle;\n",
       "    }\n",
       "\n",
       "    .dataframe tbody tr th {\n",
       "        vertical-align: top;\n",
       "    }\n",
       "\n",
       "    .dataframe thead th {\n",
       "        text-align: right;\n",
       "    }\n",
       "</style>\n",
       "<table border=\"1\" class=\"dataframe\">\n",
       "  <thead>\n",
       "    <tr style=\"text-align: right;\">\n",
       "      <th></th>\n",
       "      <th>UserId</th>\n",
       "      <th>ProductId</th>\n",
       "      <th>Rating</th>\n",
       "      <th>subCategory</th>\n",
       "      <th>articleType</th>\n",
       "      <th>baseColour</th>\n",
       "      <th>productDisplayName</th>\n",
       "    </tr>\n",
       "  </thead>\n",
       "  <tbody>\n",
       "    <tr>\n",
       "      <th>5156</th>\n",
       "      <td>AFQZT1RQVEOOX</td>\n",
       "      <td>B000052XZP</td>\n",
       "      <td>5</td>\n",
       "      <td>Fragrance</td>\n",
       "      <td>Deodorant</td>\n",
       "      <td>Blue</td>\n",
       "      <td>F5 Women Pack of 3 Deos</td>\n",
       "    </tr>\n",
       "    <tr>\n",
       "      <th>16314</th>\n",
       "      <td>A2QGGSHJQDA3QX</td>\n",
       "      <td>B0000536EW</td>\n",
       "      <td>5</td>\n",
       "      <td>Loungewear and Nightwear</td>\n",
       "      <td>Lounge Pants</td>\n",
       "      <td>Grey</td>\n",
       "      <td>Puma Men Steel Grey 3/4 Length Pants</td>\n",
       "    </tr>\n",
       "    <tr>\n",
       "      <th>18620</th>\n",
       "      <td>A2JBW35LB6UFCQ</td>\n",
       "      <td>B00005A43X</td>\n",
       "      <td>4</td>\n",
       "      <td>Topwear</td>\n",
       "      <td>Shirts</td>\n",
       "      <td>Brown</td>\n",
       "      <td>John Miller Men Solid Brown Shirts</td>\n",
       "    </tr>\n",
       "    <tr>\n",
       "      <th>2420</th>\n",
       "      <td>A2UIXU97JYCPZG</td>\n",
       "      <td>B000026BTH</td>\n",
       "      <td>5</td>\n",
       "      <td>Bags</td>\n",
       "      <td>Backpacks</td>\n",
       "      <td>Blue</td>\n",
       "      <td>Nike Unisex Brasilia 5 Me Blue Backpacks</td>\n",
       "    </tr>\n",
       "    <tr>\n",
       "      <th>8771</th>\n",
       "      <td>A3BVXMNBZ4RQBZ</td>\n",
       "      <td>B000052YOL</td>\n",
       "      <td>5</td>\n",
       "      <td>Shoes</td>\n",
       "      <td>Sports Shoes</td>\n",
       "      <td>White</td>\n",
       "      <td>Lotto Men White Sports Shoes</td>\n",
       "    </tr>\n",
       "  </tbody>\n",
       "</table>\n",
       "</div>"
      ],
      "text/plain": [
       "               UserId   ProductId  Rating               subCategory  \\\n",
       "5156    AFQZT1RQVEOOX  B000052XZP       5                 Fragrance   \n",
       "16314  A2QGGSHJQDA3QX  B0000536EW       5  Loungewear and Nightwear   \n",
       "18620  A2JBW35LB6UFCQ  B00005A43X       4                   Topwear   \n",
       "2420   A2UIXU97JYCPZG  B000026BTH       5                      Bags   \n",
       "8771   A3BVXMNBZ4RQBZ  B000052YOL       5                     Shoes   \n",
       "\n",
       "        articleType baseColour                        productDisplayName  \n",
       "5156      Deodorant       Blue                   F5 Women Pack of 3 Deos  \n",
       "16314  Lounge Pants       Grey      Puma Men Steel Grey 3/4 Length Pants  \n",
       "18620        Shirts      Brown        John Miller Men Solid Brown Shirts  \n",
       "2420      Backpacks       Blue  Nike Unisex Brasilia 5 Me Blue Backpacks  \n",
       "8771   Sports Shoes      White              Lotto Men White Sports Shoes  "
      ]
     },
     "execution_count": 23,
     "metadata": {},
     "output_type": "execute_result"
    }
   ],
   "source": [
    "test_data.head()"
   ]
  },
  {
   "cell_type": "code",
   "execution_count": 24,
   "id": "9f84beba",
   "metadata": {},
   "outputs": [
    {
     "name": "stdout",
     "output_type": "stream",
     "text": [
      "            Rating subCategory      articleType\n",
      "ProductId                                      \n",
      "B0000530ED     473       Shoes            Flats\n",
      "B00004TUBL     464   Innerwear  Innerwear Vests\n",
      "B0000536P4     342       Shoes     Sports Shoes\n",
      "B00005A9WP     330     Topwear           Kurtas\n",
      "B000052YM7     321        Bags         Handbags\n",
      "B000050B6U     308       Shoes     Casual Shoes\n",
      "B000052YP6     282       Shoes     Casual Shoes\n",
      "B000052YMR     250  Flip Flops       Flip Flops\n",
      "B00005A43X     246     Topwear          Tshirts\n",
      "B000052XZP     233     Topwear           Kurtas\n",
      "B0000536P3     212     Eyewear       Sunglasses\n",
      "B000052ZTY     205     Topwear           Kurtas\n",
      "B000052YOL     197     Topwear           Kurtas\n",
      "B000052YOR     175    Headwear             Caps\n",
      "B0000535RD     171  Flip Flops       Flip Flops\n"
     ]
    }
   ],
   "source": [
    "top_products = train_data.groupby('ProductId').agg({\n",
    "    'Rating': 'count',         # Count the occurrences of Rating\n",
    "    'subCategory': 'first',    # Take the first value of subCategory\n",
    "    'articleType': 'first'     # Take the first value of articleType\n",
    "}).sort_values(by='Rating', ascending=False).head(15)\n",
    "\n",
    "print(top_products)\n"
   ]
  },
  {
   "cell_type": "code",
   "execution_count": 25,
   "id": "30b3bffa",
   "metadata": {},
   "outputs": [],
   "source": [
    "train_data_sort = train_data.sort_values(\n",
    "    ['Rating', 'ProductId', 'subCategory', 'articleType'],\n",
    "    ascending=[False, False, False, False])\n"
   ]
  },
  {
   "cell_type": "code",
   "execution_count": 26,
   "id": "4880e032",
   "metadata": {},
   "outputs": [
    {
     "data": {
      "text/html": [
       "<div>\n",
       "<style scoped>\n",
       "    .dataframe tbody tr th:only-of-type {\n",
       "        vertical-align: middle;\n",
       "    }\n",
       "\n",
       "    .dataframe tbody tr th {\n",
       "        vertical-align: top;\n",
       "    }\n",
       "\n",
       "    .dataframe thead th {\n",
       "        text-align: right;\n",
       "    }\n",
       "</style>\n",
       "<table border=\"1\" class=\"dataframe\">\n",
       "  <thead>\n",
       "    <tr style=\"text-align: right;\">\n",
       "      <th></th>\n",
       "      <th>UserId</th>\n",
       "      <th>ProductId</th>\n",
       "      <th>Rating</th>\n",
       "      <th>subCategory</th>\n",
       "      <th>articleType</th>\n",
       "      <th>baseColour</th>\n",
       "      <th>productDisplayName</th>\n",
       "    </tr>\n",
       "  </thead>\n",
       "  <tbody>\n",
       "    <tr>\n",
       "      <th>19995</th>\n",
       "      <td>A11S57T1PZJUUI</td>\n",
       "      <td>B00005CDS9</td>\n",
       "      <td>5</td>\n",
       "      <td>Topwear</td>\n",
       "      <td>Tshirts</td>\n",
       "      <td>Green</td>\n",
       "      <td>ADIDAS Men's Dare Green T-shirt</td>\n",
       "    </tr>\n",
       "    <tr>\n",
       "      <th>19996</th>\n",
       "      <td>A3L4X1NXBBYPPU</td>\n",
       "      <td>B00005CDS9</td>\n",
       "      <td>5</td>\n",
       "      <td>Shoes</td>\n",
       "      <td>Sports Shoes</td>\n",
       "      <td>Black</td>\n",
       "      <td>Nike Women Flex 2012 RN Black Sports Shoes</td>\n",
       "    </tr>\n",
       "    <tr>\n",
       "      <th>19992</th>\n",
       "      <td>A8DM2HFTYQHWV</td>\n",
       "      <td>B00005CDS9</td>\n",
       "      <td>5</td>\n",
       "      <td>Shoes</td>\n",
       "      <td>Casual Shoes</td>\n",
       "      <td>Black</td>\n",
       "      <td>Skechers Women Black Shoes</td>\n",
       "    </tr>\n",
       "    <tr>\n",
       "      <th>19989</th>\n",
       "      <td>A3A2SOU9HIAMOF</td>\n",
       "      <td>B00005CDS9</td>\n",
       "      <td>5</td>\n",
       "      <td>Sandal</td>\n",
       "      <td>Sandals</td>\n",
       "      <td>Brown</td>\n",
       "      <td>Coolers Men Brown Sandals</td>\n",
       "    </tr>\n",
       "    <tr>\n",
       "      <th>19993</th>\n",
       "      <td>A28X7NZ02016FO</td>\n",
       "      <td>B00005CDS9</td>\n",
       "      <td>5</td>\n",
       "      <td>Loungewear and Nightwear</td>\n",
       "      <td>Nightdress</td>\n",
       "      <td>Off White</td>\n",
       "      <td>Red Rose Women Off White Nightdress</td>\n",
       "    </tr>\n",
       "  </tbody>\n",
       "</table>\n",
       "</div>"
      ],
      "text/plain": [
       "               UserId   ProductId  Rating               subCategory  \\\n",
       "19995  A11S57T1PZJUUI  B00005CDS9       5                   Topwear   \n",
       "19996  A3L4X1NXBBYPPU  B00005CDS9       5                     Shoes   \n",
       "19992   A8DM2HFTYQHWV  B00005CDS9       5                     Shoes   \n",
       "19989  A3A2SOU9HIAMOF  B00005CDS9       5                    Sandal   \n",
       "19993  A28X7NZ02016FO  B00005CDS9       5  Loungewear and Nightwear   \n",
       "\n",
       "        articleType baseColour                          productDisplayName  \n",
       "19995       Tshirts      Green             ADIDAS Men's Dare Green T-shirt  \n",
       "19996  Sports Shoes      Black  Nike Women Flex 2012 RN Black Sports Shoes  \n",
       "19992  Casual Shoes      Black                  Skechers Women Black Shoes  \n",
       "19989       Sandals      Brown                   Coolers Men Brown Sandals  \n",
       "19993    Nightdress  Off White         Red Rose Women Off White Nightdress  "
      ]
     },
     "execution_count": 26,
     "metadata": {},
     "output_type": "execute_result"
    }
   ],
   "source": [
    "\n",
    "train_data_sort.head()"
   ]
  },
  {
   "cell_type": "markdown",
   "id": "bc48b73d",
   "metadata": {},
   "source": [
    "# Model 1: Popularity based recommender model\n",
    "The implementation of Popularity-Based Filtering is straighforward. All we have to do is sort our products based on ratings, and display the top products of our list. Therefore, we should;\n",
    "\n",
    "Create a metric to score or rate the products.\n",
    "Calculate the score for every product.\n",
    "Sort the scores and recommend the best rated product to the users.\n",
    "We can use the average ratings of the products as the score but using this will not be fair enough since a product with 5average rating and only43 votes cannot be considered better than the product with 4 as average rating but 40 votes. So, we use IMDB's weighted rating formula to score the products, as follows:\n",
    "\n",
    "Weighted Rating (WR) = ((v/(v+m))*R)+((m/(v+m))*C)\n",
    " \n",
    " \n",
    "\n",
    "v: the number of votes for the product\n",
    "\n",
    "m: the minimum votes required to be listed in the chart\n",
    "\n",
    "R: the average rating of the product\n",
    "\n",
    "C: the mean vote across the whole report"
   ]
  },
  {
   "cell_type": "code",
   "execution_count": 27,
   "id": "2c86c073",
   "metadata": {},
   "outputs": [
    {
     "data": {
      "text/plain": [
       "4.172811891038318"
      ]
     },
     "execution_count": 27,
     "metadata": {},
     "output_type": "execute_result"
    }
   ],
   "source": [
    "df_rating['Mean Rating'].mean()"
   ]
  },
  {
   "cell_type": "code",
   "execution_count": 28,
   "id": "05378093",
   "metadata": {},
   "outputs": [
    {
     "data": {
      "text/plain": [
       "29.0"
      ]
     },
     "execution_count": 28,
     "metadata": {},
     "output_type": "execute_result"
    }
   ],
   "source": [
    "df_rating['Number of Rating'].quantile(q=0.9)"
   ]
  },
  {
   "cell_type": "markdown",
   "id": "0abaa011",
   "metadata": {},
   "source": [
    "# \n",
    "Calculating Product score and filtering tham based on score "
   ]
  },
  {
   "cell_type": "code",
   "execution_count": 29,
   "id": "22d50ef3",
   "metadata": {},
   "outputs": [],
   "source": [
    "def product_score(x):\n",
    "    v=x['Number of Rating']\n",
    "    m=df_rating['Number of Rating'].quantile(q=0.9)\n",
    "    R=x['Mean Rating']\n",
    "    C=df_rating['Mean Rating'].mean()\n",
    "    return ((R*v)/(v+m))+((C*m)/(v+m))"
   ]
  },
  {
   "cell_type": "code",
   "execution_count": 30,
   "id": "2c99b009",
   "metadata": {},
   "outputs": [],
   "source": [
    "df_rating['score']=df_rating.apply(product_score, axis=1)"
   ]
  },
  {
   "cell_type": "code",
   "execution_count": 31,
   "id": "4155555a",
   "metadata": {},
   "outputs": [],
   "source": [
    "df_filtered=df_rating['score']"
   ]
  },
  {
   "cell_type": "code",
   "execution_count": 32,
   "id": "1a3a0bbe",
   "metadata": {},
   "outputs": [
    {
     "data": {
      "text/plain": [
       "ProductId\n",
       "1304139212    4.200385\n",
       "1304139220    4.200385\n",
       "130414089X    4.200385\n",
       "130414643X    4.187861\n",
       "1304146537    4.200385\n",
       "Name: score, dtype: float64"
      ]
     },
     "execution_count": 32,
     "metadata": {},
     "output_type": "execute_result"
    }
   ],
   "source": [
    "df_filtered.head()"
   ]
  },
  {
   "cell_type": "markdown",
   "id": "1a14af8b",
   "metadata": {},
   "source": [
    "# \n",
    "Finally, we sort the dataframe based on the score feature, and we output the the top 10 popular products."
   ]
  },
  {
   "cell_type": "code",
   "execution_count": 33,
   "id": "e899a0a7",
   "metadata": {},
   "outputs": [],
   "source": [
    "df_highscore = df_filtered.sort_values(ascending=False).head(10)\n"
   ]
  },
  {
   "cell_type": "code",
   "execution_count": 34,
   "id": "0c248d1f",
   "metadata": {},
   "outputs": [
    {
     "data": {
      "text/plain": [
       "ProductId\n",
       "B000052YMR    4.660852\n",
       "B000052YN6    4.644573\n",
       "B000052YJH    4.634412\n",
       "B00004U9UY    4.634352\n",
       "B00005323F    4.631700\n",
       "B000052YN7    4.625111\n",
       "B00004U9V2    4.619930\n",
       "B00004TUBL    4.611604\n",
       "B0000536EK    4.606390\n",
       "B000052YP6    4.605437\n",
       "Name: score, dtype: float64"
      ]
     },
     "execution_count": 34,
     "metadata": {},
     "output_type": "execute_result"
    }
   ],
   "source": [
    "df_highscore"
   ]
  },
  {
   "cell_type": "code",
   "execution_count": 35,
   "id": "0d0d93ba",
   "metadata": {},
   "outputs": [],
   "source": [
    "df_filtered=df_rating[df_rating['Number of Rating']>df_rating['Number of Rating'].quantile(q=0.9)]"
   ]
  },
  {
   "cell_type": "code",
   "execution_count": 36,
   "id": "57180fee",
   "metadata": {},
   "outputs": [
    {
     "data": {
      "text/plain": [
       "(139, 3)"
      ]
     },
     "execution_count": 36,
     "metadata": {},
     "output_type": "execute_result"
    }
   ],
   "source": [
    "df_filtered.shape"
   ]
  },
  {
   "cell_type": "code",
   "execution_count": 37,
   "id": "1d2ec1a9",
   "metadata": {},
   "outputs": [
    {
     "data": {
      "text/plain": [
       "ProductId\n",
       "B000052YMR    4.660852\n",
       "B000052YN6    4.644573\n",
       "B000052YJH    4.634412\n",
       "B00004U9UY    4.634352\n",
       "B00005323F    4.631700\n",
       "B000052YN7    4.625111\n",
       "B00004U9V2    4.619930\n",
       "B00004TUBL    4.611604\n",
       "B0000536EK    4.606390\n",
       "B000052YP6    4.605437\n",
       "Name: score, dtype: float64"
      ]
     },
     "execution_count": 37,
     "metadata": {},
     "output_type": "execute_result"
    }
   ],
   "source": [
    "df_highscore"
   ]
  },
  {
   "cell_type": "markdown",
   "id": "d63115dc",
   "metadata": {},
   "source": [
    "# Here are the Top N product of website based on popularity "
   ]
  },
  {
   "cell_type": "code",
   "execution_count": 38,
   "id": "141b20ee",
   "metadata": {},
   "outputs": [
    {
     "name": "stdout",
     "output_type": "stream",
     "text": [
      "Enter the number of top products: 10\n",
      "               score subCategory            articleType\n",
      "ProductId                                              \n",
      "B000052YMR  4.660852       Shoes           Sports Shoes\n",
      "B000052YMR  4.660852     Watches                Watches\n",
      "B000052YMR  4.660852  Bottomwear               Leggings\n",
      "B000052YMR  4.660852     Topwear                 Kurtas\n",
      "B000052YMR  4.660852     Topwear                Tshirts\n",
      "B000052YMR  4.660852   Fragrance  Perfume and Body Mist\n",
      "B000052YMR  4.660852     Topwear                 Shirts\n",
      "B000052YMR  4.660852     Topwear                 Kurtis\n",
      "B000052YMR  4.660852      Sandal                Sandals\n",
      "B000052YMR  4.660852     Topwear                   Tops\n"
     ]
    }
   ],
   "source": [
    "\n",
    "\n",
    "# Reset the index of df_highscore if the product IDs are currently the index\n",
    "df_highscore_reset = df_highscore.reset_index()\n",
    "\n",
    "# Merge the two DataFrames using the 'ProductId' column\n",
    "merged_df = df_highscore_reset.merge(data[['ProductId', 'subCategory', 'articleType']], on='ProductId', how='left')\n",
    "\n",
    "# Take user input for the number of top products to show\n",
    "no_of_total_product = int(input(\"Enter the number of top products: \"))\n",
    "\n",
    "# Set the 'ProductId' column as the index again\n",
    "merged_df = merged_df.set_index('ProductId')\n",
    "\n",
    "# Get the top N products\n",
    "top_n_merged_df = merged_df.head(no_of_total_product)\n",
    "\n",
    "print(top_n_merged_df)\n"
   ]
  },
  {
   "cell_type": "markdown",
   "id": "edafd785",
   "metadata": {},
   "source": [
    "Remember that regardless of the user's preferences, this popularity-based recommender offers a broad chart of suggested products to all users. It does not make tailored recommendations based on users' preferences or interests, and it is not responsive to the preferences and interests of a specific user.\n"
   ]
  },
  {
   "cell_type": "markdown",
   "id": "81e336ff",
   "metadata": {},
   "source": [
    "# Recommendation System - Part II\n",
    "Model-based collaborative filtering system\n",
    "Recommend items to users based on purchase history and similarity of ratings provided by other users who bought items to that of a particular customer.\n",
    "\n",
    "A model based collaborative filtering technique is closen here as it helps in making predicting products for a particular user by identifying patterns based on preferences from multiple user data.using Singular Value Decomposition (SVD)\n",
    "\n",
    "\n",
    "\n"
   ]
  },
  {
   "cell_type": "code",
   "execution_count": 39,
   "id": "9c5454c2",
   "metadata": {},
   "outputs": [],
   "source": [
    "#import the reqired libraries\n",
    "from IPython.core.interactiveshell import InteractiveShell\n",
    "InteractiveShell.ast_node_interactivity = \"all\"\n",
    "import math\n",
    "import json\n",
    "import time\n",
    "import matplotlib.pyplot as plt\n",
    "import seaborn as sns\n",
    "from sklearn.metrics.pairwise import cosine_similarity\n",
    "from sklearn.model_selection import train_test_split\n",
    "from sklearn.neighbors import NearestNeighbors\n",
    "import scipy.sparse\n",
    "import joblib\n",
    "from scipy.sparse import csr_matrix\n",
    "from scipy.sparse.linalg import svds\n",
    "import warnings; warnings.simplefilter('ignore')\n",
    "%matplotlib inline"
   ]
  },
  {
   "cell_type": "code",
   "execution_count": 40,
   "id": "c218012b",
   "metadata": {},
   "outputs": [
    {
     "name": "stdout",
     "output_type": "stream",
     "text": [
      "<class 'pandas.core.frame.DataFrame'>\n",
      "Int64Index: 19996 entries, 0 to 19998\n",
      "Data columns (total 7 columns):\n",
      " #   Column              Non-Null Count  Dtype \n",
      "---  ------              --------------  ----- \n",
      " 0   UserId              19996 non-null  object\n",
      " 1   ProductId           19996 non-null  object\n",
      " 2   Rating              19996 non-null  int64 \n",
      " 3   subCategory         19996 non-null  object\n",
      " 4   articleType         19996 non-null  object\n",
      " 5   baseColour          19990 non-null  object\n",
      " 6   productDisplayName  19996 non-null  object\n",
      "dtypes: int64(1), object(6)\n",
      "memory usage: 1.2+ MB\n"
     ]
    }
   ],
   "source": [
    "data.info()"
   ]
  },
  {
   "cell_type": "code",
   "execution_count": 41,
   "id": "796e7d14",
   "metadata": {},
   "outputs": [
    {
     "data": {
      "text/plain": [
       "UserId                0\n",
       "ProductId             0\n",
       "Rating                0\n",
       "subCategory           0\n",
       "articleType           0\n",
       "baseColour            6\n",
       "productDisplayName    0\n",
       "dtype: int64"
      ]
     },
     "execution_count": 41,
     "metadata": {},
     "output_type": "execute_result"
    }
   ],
   "source": [
    "data.isnull().sum()"
   ]
  },
  {
   "cell_type": "code",
   "execution_count": 42,
   "id": "e1ab2d7f",
   "metadata": {},
   "outputs": [],
   "source": [
    "data.fillna(data.mean,inplace=True)"
   ]
  },
  {
   "cell_type": "code",
   "execution_count": 43,
   "id": "ba2670ad",
   "metadata": {},
   "outputs": [
    {
     "data": {
      "text/plain": [
       "UserId                0\n",
       "ProductId             0\n",
       "Rating                0\n",
       "subCategory           0\n",
       "articleType           0\n",
       "baseColour            0\n",
       "productDisplayName    0\n",
       "dtype: int64"
      ]
     },
     "execution_count": 43,
     "metadata": {},
     "output_type": "execute_result"
    }
   ],
   "source": [
    "data.isnull().sum()"
   ]
  },
  {
   "cell_type": "code",
   "execution_count": 44,
   "id": "b14f9bd5",
   "metadata": {},
   "outputs": [
    {
     "name": "stdout",
     "output_type": "stream",
     "text": [
      "Number of unique users in Raw data =  19098\n",
      "Number of unique product in Raw data =  1398\n"
     ]
    }
   ],
   "source": [
    "# Number of unique user id  in the data\n",
    "print('Number of unique users in Raw data = ', data['UserId'].nunique())\n",
    "# Number of unique product id  in the data\n",
    "print('Number of unique product in Raw data = ', data['ProductId'].nunique())"
   ]
  },
  {
   "cell_type": "code",
   "execution_count": 45,
   "id": "8dff6454",
   "metadata": {},
   "outputs": [
    {
     "data": {
      "text/html": [
       "<div>\n",
       "<style scoped>\n",
       "    .dataframe tbody tr th:only-of-type {\n",
       "        vertical-align: middle;\n",
       "    }\n",
       "\n",
       "    .dataframe tbody tr th {\n",
       "        vertical-align: top;\n",
       "    }\n",
       "\n",
       "    .dataframe thead th {\n",
       "        text-align: right;\n",
       "    }\n",
       "</style>\n",
       "<table border=\"1\" class=\"dataframe\">\n",
       "  <thead>\n",
       "    <tr style=\"text-align: right;\">\n",
       "      <th>ProductId</th>\n",
       "      <th>1304139212</th>\n",
       "      <th>1304139220</th>\n",
       "      <th>130414089X</th>\n",
       "      <th>130414643X</th>\n",
       "      <th>1304146537</th>\n",
       "      <th>130414674X</th>\n",
       "      <th>1304168522</th>\n",
       "      <th>1304174778</th>\n",
       "      <th>1304174867</th>\n",
       "      <th>1304174905</th>\n",
       "      <th>...</th>\n",
       "      <th>B00005BJ8X</th>\n",
       "      <th>B00005BJ91</th>\n",
       "      <th>B00005BL1R</th>\n",
       "      <th>B00005BLRH</th>\n",
       "      <th>B00005BWXD</th>\n",
       "      <th>B00005CDRP</th>\n",
       "      <th>B00005CDRY</th>\n",
       "      <th>B00005CDS5</th>\n",
       "      <th>B00005CDS7</th>\n",
       "      <th>B00005CDS9</th>\n",
       "    </tr>\n",
       "    <tr>\n",
       "      <th>UserId</th>\n",
       "      <th></th>\n",
       "      <th></th>\n",
       "      <th></th>\n",
       "      <th></th>\n",
       "      <th></th>\n",
       "      <th></th>\n",
       "      <th></th>\n",
       "      <th></th>\n",
       "      <th></th>\n",
       "      <th></th>\n",
       "      <th></th>\n",
       "      <th></th>\n",
       "      <th></th>\n",
       "      <th></th>\n",
       "      <th></th>\n",
       "      <th></th>\n",
       "      <th></th>\n",
       "      <th></th>\n",
       "      <th></th>\n",
       "      <th></th>\n",
       "      <th></th>\n",
       "    </tr>\n",
       "  </thead>\n",
       "  <tbody>\n",
       "    <tr>\n",
       "      <th>A00205921JHJK5X9LNP42</th>\n",
       "      <td>0.0</td>\n",
       "      <td>0.0</td>\n",
       "      <td>0.0</td>\n",
       "      <td>0.0</td>\n",
       "      <td>0.0</td>\n",
       "      <td>0.0</td>\n",
       "      <td>0.0</td>\n",
       "      <td>0.0</td>\n",
       "      <td>0.0</td>\n",
       "      <td>0.0</td>\n",
       "      <td>...</td>\n",
       "      <td>0.0</td>\n",
       "      <td>0.0</td>\n",
       "      <td>0.0</td>\n",
       "      <td>0.0</td>\n",
       "      <td>0.0</td>\n",
       "      <td>0.0</td>\n",
       "      <td>0.0</td>\n",
       "      <td>0.0</td>\n",
       "      <td>0.0</td>\n",
       "      <td>0.0</td>\n",
       "    </tr>\n",
       "    <tr>\n",
       "      <th>A00473363TJ8YSZ3YAGG9</th>\n",
       "      <td>0.0</td>\n",
       "      <td>0.0</td>\n",
       "      <td>0.0</td>\n",
       "      <td>0.0</td>\n",
       "      <td>0.0</td>\n",
       "      <td>0.0</td>\n",
       "      <td>0.0</td>\n",
       "      <td>0.0</td>\n",
       "      <td>0.0</td>\n",
       "      <td>0.0</td>\n",
       "      <td>...</td>\n",
       "      <td>0.0</td>\n",
       "      <td>0.0</td>\n",
       "      <td>0.0</td>\n",
       "      <td>0.0</td>\n",
       "      <td>0.0</td>\n",
       "      <td>0.0</td>\n",
       "      <td>0.0</td>\n",
       "      <td>0.0</td>\n",
       "      <td>0.0</td>\n",
       "      <td>0.0</td>\n",
       "    </tr>\n",
       "    <tr>\n",
       "      <th>A01437583CZ7V02UKZQ5S</th>\n",
       "      <td>0.0</td>\n",
       "      <td>0.0</td>\n",
       "      <td>0.0</td>\n",
       "      <td>0.0</td>\n",
       "      <td>0.0</td>\n",
       "      <td>0.0</td>\n",
       "      <td>0.0</td>\n",
       "      <td>0.0</td>\n",
       "      <td>0.0</td>\n",
       "      <td>0.0</td>\n",
       "      <td>...</td>\n",
       "      <td>0.0</td>\n",
       "      <td>0.0</td>\n",
       "      <td>0.0</td>\n",
       "      <td>0.0</td>\n",
       "      <td>0.0</td>\n",
       "      <td>0.0</td>\n",
       "      <td>0.0</td>\n",
       "      <td>0.0</td>\n",
       "      <td>0.0</td>\n",
       "      <td>0.0</td>\n",
       "    </tr>\n",
       "    <tr>\n",
       "      <th>A020135981U0UNEAE4JV</th>\n",
       "      <td>0.0</td>\n",
       "      <td>0.0</td>\n",
       "      <td>0.0</td>\n",
       "      <td>0.0</td>\n",
       "      <td>0.0</td>\n",
       "      <td>0.0</td>\n",
       "      <td>0.0</td>\n",
       "      <td>0.0</td>\n",
       "      <td>0.0</td>\n",
       "      <td>0.0</td>\n",
       "      <td>...</td>\n",
       "      <td>0.0</td>\n",
       "      <td>0.0</td>\n",
       "      <td>0.0</td>\n",
       "      <td>0.0</td>\n",
       "      <td>0.0</td>\n",
       "      <td>0.0</td>\n",
       "      <td>0.0</td>\n",
       "      <td>0.0</td>\n",
       "      <td>0.0</td>\n",
       "      <td>0.0</td>\n",
       "    </tr>\n",
       "    <tr>\n",
       "      <th>A024581134CV80ZBLIZTZ</th>\n",
       "      <td>0.0</td>\n",
       "      <td>0.0</td>\n",
       "      <td>0.0</td>\n",
       "      <td>0.0</td>\n",
       "      <td>0.0</td>\n",
       "      <td>0.0</td>\n",
       "      <td>0.0</td>\n",
       "      <td>0.0</td>\n",
       "      <td>0.0</td>\n",
       "      <td>0.0</td>\n",
       "      <td>...</td>\n",
       "      <td>0.0</td>\n",
       "      <td>0.0</td>\n",
       "      <td>0.0</td>\n",
       "      <td>0.0</td>\n",
       "      <td>0.0</td>\n",
       "      <td>0.0</td>\n",
       "      <td>0.0</td>\n",
       "      <td>0.0</td>\n",
       "      <td>0.0</td>\n",
       "      <td>0.0</td>\n",
       "    </tr>\n",
       "  </tbody>\n",
       "</table>\n",
       "<p>5 rows × 1398 columns</p>\n",
       "</div>"
      ],
      "text/plain": [
       "ProductId              1304139212  1304139220  130414089X  130414643X  \\\n",
       "UserId                                                                  \n",
       "A00205921JHJK5X9LNP42         0.0         0.0         0.0         0.0   \n",
       "A00473363TJ8YSZ3YAGG9         0.0         0.0         0.0         0.0   \n",
       "A01437583CZ7V02UKZQ5S         0.0         0.0         0.0         0.0   \n",
       "A020135981U0UNEAE4JV          0.0         0.0         0.0         0.0   \n",
       "A024581134CV80ZBLIZTZ         0.0         0.0         0.0         0.0   \n",
       "\n",
       "ProductId              1304146537  130414674X  1304168522  1304174778  \\\n",
       "UserId                                                                  \n",
       "A00205921JHJK5X9LNP42         0.0         0.0         0.0         0.0   \n",
       "A00473363TJ8YSZ3YAGG9         0.0         0.0         0.0         0.0   \n",
       "A01437583CZ7V02UKZQ5S         0.0         0.0         0.0         0.0   \n",
       "A020135981U0UNEAE4JV          0.0         0.0         0.0         0.0   \n",
       "A024581134CV80ZBLIZTZ         0.0         0.0         0.0         0.0   \n",
       "\n",
       "ProductId              1304174867  1304174905  ...  B00005BJ8X  B00005BJ91  \\\n",
       "UserId                                         ...                           \n",
       "A00205921JHJK5X9LNP42         0.0         0.0  ...         0.0         0.0   \n",
       "A00473363TJ8YSZ3YAGG9         0.0         0.0  ...         0.0         0.0   \n",
       "A01437583CZ7V02UKZQ5S         0.0         0.0  ...         0.0         0.0   \n",
       "A020135981U0UNEAE4JV          0.0         0.0  ...         0.0         0.0   \n",
       "A024581134CV80ZBLIZTZ         0.0         0.0  ...         0.0         0.0   \n",
       "\n",
       "ProductId              B00005BL1R  B00005BLRH  B00005BWXD  B00005CDRP  \\\n",
       "UserId                                                                  \n",
       "A00205921JHJK5X9LNP42         0.0         0.0         0.0         0.0   \n",
       "A00473363TJ8YSZ3YAGG9         0.0         0.0         0.0         0.0   \n",
       "A01437583CZ7V02UKZQ5S         0.0         0.0         0.0         0.0   \n",
       "A020135981U0UNEAE4JV          0.0         0.0         0.0         0.0   \n",
       "A024581134CV80ZBLIZTZ         0.0         0.0         0.0         0.0   \n",
       "\n",
       "ProductId              B00005CDRY  B00005CDS5  B00005CDS7  B00005CDS9  \n",
       "UserId                                                                 \n",
       "A00205921JHJK5X9LNP42         0.0         0.0         0.0         0.0  \n",
       "A00473363TJ8YSZ3YAGG9         0.0         0.0         0.0         0.0  \n",
       "A01437583CZ7V02UKZQ5S         0.0         0.0         0.0         0.0  \n",
       "A020135981U0UNEAE4JV          0.0         0.0         0.0         0.0  \n",
       "A024581134CV80ZBLIZTZ         0.0         0.0         0.0         0.0  \n",
       "\n",
       "[5 rows x 1398 columns]"
      ]
     },
     "execution_count": 45,
     "metadata": {},
     "output_type": "execute_result"
    }
   ],
   "source": [
    "# Matrix with row per 'user' and column per 'item' \n",
    "pivot_df = data.pivot(index = 'UserId', columns ='ProductId', values = 'Rating').fillna(0)\n",
    "pivot_df.head()"
   ]
  },
  {
   "cell_type": "code",
   "execution_count": 46,
   "id": "9d948b03",
   "metadata": {},
   "outputs": [
    {
     "name": "stdout",
     "output_type": "stream",
     "text": [
      "Shape of the pivot table:  (19098, 1398)\n"
     ]
    }
   ],
   "source": [
    "print('Shape of the pivot table: ', pivot_df.shape)"
   ]
  },
  {
   "cell_type": "code",
   "execution_count": 47,
   "id": "4ad9f3e7",
   "metadata": {},
   "outputs": [
    {
     "data": {
      "text/html": [
       "<div>\n",
       "<style scoped>\n",
       "    .dataframe tbody tr th:only-of-type {\n",
       "        vertical-align: middle;\n",
       "    }\n",
       "\n",
       "    .dataframe tbody tr th {\n",
       "        vertical-align: top;\n",
       "    }\n",
       "\n",
       "    .dataframe thead th {\n",
       "        text-align: right;\n",
       "    }\n",
       "</style>\n",
       "<table border=\"1\" class=\"dataframe\">\n",
       "  <thead>\n",
       "    <tr style=\"text-align: right;\">\n",
       "      <th>ProductId</th>\n",
       "      <th>1304139212</th>\n",
       "      <th>1304139220</th>\n",
       "      <th>130414089X</th>\n",
       "      <th>130414643X</th>\n",
       "      <th>1304146537</th>\n",
       "      <th>130414674X</th>\n",
       "      <th>1304168522</th>\n",
       "      <th>1304174778</th>\n",
       "      <th>1304174867</th>\n",
       "      <th>1304174905</th>\n",
       "      <th>...</th>\n",
       "      <th>B00005BJ91</th>\n",
       "      <th>B00005BL1R</th>\n",
       "      <th>B00005BLRH</th>\n",
       "      <th>B00005BWXD</th>\n",
       "      <th>B00005CDRP</th>\n",
       "      <th>B00005CDRY</th>\n",
       "      <th>B00005CDS5</th>\n",
       "      <th>B00005CDS7</th>\n",
       "      <th>B00005CDS9</th>\n",
       "      <th>user_index</th>\n",
       "    </tr>\n",
       "    <tr>\n",
       "      <th>UserId</th>\n",
       "      <th></th>\n",
       "      <th></th>\n",
       "      <th></th>\n",
       "      <th></th>\n",
       "      <th></th>\n",
       "      <th></th>\n",
       "      <th></th>\n",
       "      <th></th>\n",
       "      <th></th>\n",
       "      <th></th>\n",
       "      <th></th>\n",
       "      <th></th>\n",
       "      <th></th>\n",
       "      <th></th>\n",
       "      <th></th>\n",
       "      <th></th>\n",
       "      <th></th>\n",
       "      <th></th>\n",
       "      <th></th>\n",
       "      <th></th>\n",
       "      <th></th>\n",
       "    </tr>\n",
       "  </thead>\n",
       "  <tbody>\n",
       "    <tr>\n",
       "      <th>A00205921JHJK5X9LNP42</th>\n",
       "      <td>0.0</td>\n",
       "      <td>0.0</td>\n",
       "      <td>0.0</td>\n",
       "      <td>0.0</td>\n",
       "      <td>0.0</td>\n",
       "      <td>0.0</td>\n",
       "      <td>0.0</td>\n",
       "      <td>0.0</td>\n",
       "      <td>0.0</td>\n",
       "      <td>0.0</td>\n",
       "      <td>...</td>\n",
       "      <td>0.0</td>\n",
       "      <td>0.0</td>\n",
       "      <td>0.0</td>\n",
       "      <td>0.0</td>\n",
       "      <td>0.0</td>\n",
       "      <td>0.0</td>\n",
       "      <td>0.0</td>\n",
       "      <td>0.0</td>\n",
       "      <td>0.0</td>\n",
       "      <td>0</td>\n",
       "    </tr>\n",
       "    <tr>\n",
       "      <th>A00473363TJ8YSZ3YAGG9</th>\n",
       "      <td>0.0</td>\n",
       "      <td>0.0</td>\n",
       "      <td>0.0</td>\n",
       "      <td>0.0</td>\n",
       "      <td>0.0</td>\n",
       "      <td>0.0</td>\n",
       "      <td>0.0</td>\n",
       "      <td>0.0</td>\n",
       "      <td>0.0</td>\n",
       "      <td>0.0</td>\n",
       "      <td>...</td>\n",
       "      <td>0.0</td>\n",
       "      <td>0.0</td>\n",
       "      <td>0.0</td>\n",
       "      <td>0.0</td>\n",
       "      <td>0.0</td>\n",
       "      <td>0.0</td>\n",
       "      <td>0.0</td>\n",
       "      <td>0.0</td>\n",
       "      <td>0.0</td>\n",
       "      <td>1</td>\n",
       "    </tr>\n",
       "    <tr>\n",
       "      <th>A01437583CZ7V02UKZQ5S</th>\n",
       "      <td>0.0</td>\n",
       "      <td>0.0</td>\n",
       "      <td>0.0</td>\n",
       "      <td>0.0</td>\n",
       "      <td>0.0</td>\n",
       "      <td>0.0</td>\n",
       "      <td>0.0</td>\n",
       "      <td>0.0</td>\n",
       "      <td>0.0</td>\n",
       "      <td>0.0</td>\n",
       "      <td>...</td>\n",
       "      <td>0.0</td>\n",
       "      <td>0.0</td>\n",
       "      <td>0.0</td>\n",
       "      <td>0.0</td>\n",
       "      <td>0.0</td>\n",
       "      <td>0.0</td>\n",
       "      <td>0.0</td>\n",
       "      <td>0.0</td>\n",
       "      <td>0.0</td>\n",
       "      <td>2</td>\n",
       "    </tr>\n",
       "    <tr>\n",
       "      <th>A020135981U0UNEAE4JV</th>\n",
       "      <td>0.0</td>\n",
       "      <td>0.0</td>\n",
       "      <td>0.0</td>\n",
       "      <td>0.0</td>\n",
       "      <td>0.0</td>\n",
       "      <td>0.0</td>\n",
       "      <td>0.0</td>\n",
       "      <td>0.0</td>\n",
       "      <td>0.0</td>\n",
       "      <td>0.0</td>\n",
       "      <td>...</td>\n",
       "      <td>0.0</td>\n",
       "      <td>0.0</td>\n",
       "      <td>0.0</td>\n",
       "      <td>0.0</td>\n",
       "      <td>0.0</td>\n",
       "      <td>0.0</td>\n",
       "      <td>0.0</td>\n",
       "      <td>0.0</td>\n",
       "      <td>0.0</td>\n",
       "      <td>3</td>\n",
       "    </tr>\n",
       "    <tr>\n",
       "      <th>A024581134CV80ZBLIZTZ</th>\n",
       "      <td>0.0</td>\n",
       "      <td>0.0</td>\n",
       "      <td>0.0</td>\n",
       "      <td>0.0</td>\n",
       "      <td>0.0</td>\n",
       "      <td>0.0</td>\n",
       "      <td>0.0</td>\n",
       "      <td>0.0</td>\n",
       "      <td>0.0</td>\n",
       "      <td>0.0</td>\n",
       "      <td>...</td>\n",
       "      <td>0.0</td>\n",
       "      <td>0.0</td>\n",
       "      <td>0.0</td>\n",
       "      <td>0.0</td>\n",
       "      <td>0.0</td>\n",
       "      <td>0.0</td>\n",
       "      <td>0.0</td>\n",
       "      <td>0.0</td>\n",
       "      <td>0.0</td>\n",
       "      <td>4</td>\n",
       "    </tr>\n",
       "  </tbody>\n",
       "</table>\n",
       "<p>5 rows × 1399 columns</p>\n",
       "</div>"
      ],
      "text/plain": [
       "ProductId              1304139212  1304139220  130414089X  130414643X  \\\n",
       "UserId                                                                  \n",
       "A00205921JHJK5X9LNP42         0.0         0.0         0.0         0.0   \n",
       "A00473363TJ8YSZ3YAGG9         0.0         0.0         0.0         0.0   \n",
       "A01437583CZ7V02UKZQ5S         0.0         0.0         0.0         0.0   \n",
       "A020135981U0UNEAE4JV          0.0         0.0         0.0         0.0   \n",
       "A024581134CV80ZBLIZTZ         0.0         0.0         0.0         0.0   \n",
       "\n",
       "ProductId              1304146537  130414674X  1304168522  1304174778  \\\n",
       "UserId                                                                  \n",
       "A00205921JHJK5X9LNP42         0.0         0.0         0.0         0.0   \n",
       "A00473363TJ8YSZ3YAGG9         0.0         0.0         0.0         0.0   \n",
       "A01437583CZ7V02UKZQ5S         0.0         0.0         0.0         0.0   \n",
       "A020135981U0UNEAE4JV          0.0         0.0         0.0         0.0   \n",
       "A024581134CV80ZBLIZTZ         0.0         0.0         0.0         0.0   \n",
       "\n",
       "ProductId              1304174867  1304174905  ...  B00005BJ91  B00005BL1R  \\\n",
       "UserId                                         ...                           \n",
       "A00205921JHJK5X9LNP42         0.0         0.0  ...         0.0         0.0   \n",
       "A00473363TJ8YSZ3YAGG9         0.0         0.0  ...         0.0         0.0   \n",
       "A01437583CZ7V02UKZQ5S         0.0         0.0  ...         0.0         0.0   \n",
       "A020135981U0UNEAE4JV          0.0         0.0  ...         0.0         0.0   \n",
       "A024581134CV80ZBLIZTZ         0.0         0.0  ...         0.0         0.0   \n",
       "\n",
       "ProductId              B00005BLRH  B00005BWXD  B00005CDRP  B00005CDRY  \\\n",
       "UserId                                                                  \n",
       "A00205921JHJK5X9LNP42         0.0         0.0         0.0         0.0   \n",
       "A00473363TJ8YSZ3YAGG9         0.0         0.0         0.0         0.0   \n",
       "A01437583CZ7V02UKZQ5S         0.0         0.0         0.0         0.0   \n",
       "A020135981U0UNEAE4JV          0.0         0.0         0.0         0.0   \n",
       "A024581134CV80ZBLIZTZ         0.0         0.0         0.0         0.0   \n",
       "\n",
       "ProductId              B00005CDS5  B00005CDS7  B00005CDS9  user_index  \n",
       "UserId                                                                 \n",
       "A00205921JHJK5X9LNP42         0.0         0.0         0.0           0  \n",
       "A00473363TJ8YSZ3YAGG9         0.0         0.0         0.0           1  \n",
       "A01437583CZ7V02UKZQ5S         0.0         0.0         0.0           2  \n",
       "A020135981U0UNEAE4JV          0.0         0.0         0.0           3  \n",
       "A024581134CV80ZBLIZTZ         0.0         0.0         0.0           4  \n",
       "\n",
       "[5 rows x 1399 columns]"
      ]
     },
     "execution_count": 47,
     "metadata": {},
     "output_type": "execute_result"
    }
   ],
   "source": [
    "#define user index from 0 to 10\n",
    "pivot_df['user_index'] = np.arange(0, pivot_df.shape[0], 1)\n",
    "pivot_df.head()"
   ]
  },
  {
   "cell_type": "code",
   "execution_count": 48,
   "id": "e7f32ef2",
   "metadata": {},
   "outputs": [
    {
     "data": {
      "text/html": [
       "<div>\n",
       "<style scoped>\n",
       "    .dataframe tbody tr th:only-of-type {\n",
       "        vertical-align: middle;\n",
       "    }\n",
       "\n",
       "    .dataframe tbody tr th {\n",
       "        vertical-align: top;\n",
       "    }\n",
       "\n",
       "    .dataframe thead th {\n",
       "        text-align: right;\n",
       "    }\n",
       "</style>\n",
       "<table border=\"1\" class=\"dataframe\">\n",
       "  <thead>\n",
       "    <tr style=\"text-align: right;\">\n",
       "      <th>ProductId</th>\n",
       "      <th>1304139212</th>\n",
       "      <th>1304139220</th>\n",
       "      <th>130414089X</th>\n",
       "      <th>130414643X</th>\n",
       "      <th>1304146537</th>\n",
       "      <th>130414674X</th>\n",
       "      <th>1304168522</th>\n",
       "      <th>1304174778</th>\n",
       "      <th>1304174867</th>\n",
       "      <th>1304174905</th>\n",
       "      <th>...</th>\n",
       "      <th>B00005BJ8X</th>\n",
       "      <th>B00005BJ91</th>\n",
       "      <th>B00005BL1R</th>\n",
       "      <th>B00005BLRH</th>\n",
       "      <th>B00005BWXD</th>\n",
       "      <th>B00005CDRP</th>\n",
       "      <th>B00005CDRY</th>\n",
       "      <th>B00005CDS5</th>\n",
       "      <th>B00005CDS7</th>\n",
       "      <th>B00005CDS9</th>\n",
       "    </tr>\n",
       "    <tr>\n",
       "      <th>user_index</th>\n",
       "      <th></th>\n",
       "      <th></th>\n",
       "      <th></th>\n",
       "      <th></th>\n",
       "      <th></th>\n",
       "      <th></th>\n",
       "      <th></th>\n",
       "      <th></th>\n",
       "      <th></th>\n",
       "      <th></th>\n",
       "      <th></th>\n",
       "      <th></th>\n",
       "      <th></th>\n",
       "      <th></th>\n",
       "      <th></th>\n",
       "      <th></th>\n",
       "      <th></th>\n",
       "      <th></th>\n",
       "      <th></th>\n",
       "      <th></th>\n",
       "      <th></th>\n",
       "    </tr>\n",
       "  </thead>\n",
       "  <tbody>\n",
       "    <tr>\n",
       "      <th>0</th>\n",
       "      <td>0.0</td>\n",
       "      <td>0.0</td>\n",
       "      <td>0.0</td>\n",
       "      <td>0.0</td>\n",
       "      <td>0.0</td>\n",
       "      <td>0.0</td>\n",
       "      <td>0.0</td>\n",
       "      <td>0.0</td>\n",
       "      <td>0.0</td>\n",
       "      <td>0.0</td>\n",
       "      <td>...</td>\n",
       "      <td>0.0</td>\n",
       "      <td>0.0</td>\n",
       "      <td>0.0</td>\n",
       "      <td>0.0</td>\n",
       "      <td>0.0</td>\n",
       "      <td>0.0</td>\n",
       "      <td>0.0</td>\n",
       "      <td>0.0</td>\n",
       "      <td>0.0</td>\n",
       "      <td>0.0</td>\n",
       "    </tr>\n",
       "    <tr>\n",
       "      <th>1</th>\n",
       "      <td>0.0</td>\n",
       "      <td>0.0</td>\n",
       "      <td>0.0</td>\n",
       "      <td>0.0</td>\n",
       "      <td>0.0</td>\n",
       "      <td>0.0</td>\n",
       "      <td>0.0</td>\n",
       "      <td>0.0</td>\n",
       "      <td>0.0</td>\n",
       "      <td>0.0</td>\n",
       "      <td>...</td>\n",
       "      <td>0.0</td>\n",
       "      <td>0.0</td>\n",
       "      <td>0.0</td>\n",
       "      <td>0.0</td>\n",
       "      <td>0.0</td>\n",
       "      <td>0.0</td>\n",
       "      <td>0.0</td>\n",
       "      <td>0.0</td>\n",
       "      <td>0.0</td>\n",
       "      <td>0.0</td>\n",
       "    </tr>\n",
       "    <tr>\n",
       "      <th>2</th>\n",
       "      <td>0.0</td>\n",
       "      <td>0.0</td>\n",
       "      <td>0.0</td>\n",
       "      <td>0.0</td>\n",
       "      <td>0.0</td>\n",
       "      <td>0.0</td>\n",
       "      <td>0.0</td>\n",
       "      <td>0.0</td>\n",
       "      <td>0.0</td>\n",
       "      <td>0.0</td>\n",
       "      <td>...</td>\n",
       "      <td>0.0</td>\n",
       "      <td>0.0</td>\n",
       "      <td>0.0</td>\n",
       "      <td>0.0</td>\n",
       "      <td>0.0</td>\n",
       "      <td>0.0</td>\n",
       "      <td>0.0</td>\n",
       "      <td>0.0</td>\n",
       "      <td>0.0</td>\n",
       "      <td>0.0</td>\n",
       "    </tr>\n",
       "    <tr>\n",
       "      <th>3</th>\n",
       "      <td>0.0</td>\n",
       "      <td>0.0</td>\n",
       "      <td>0.0</td>\n",
       "      <td>0.0</td>\n",
       "      <td>0.0</td>\n",
       "      <td>0.0</td>\n",
       "      <td>0.0</td>\n",
       "      <td>0.0</td>\n",
       "      <td>0.0</td>\n",
       "      <td>0.0</td>\n",
       "      <td>...</td>\n",
       "      <td>0.0</td>\n",
       "      <td>0.0</td>\n",
       "      <td>0.0</td>\n",
       "      <td>0.0</td>\n",
       "      <td>0.0</td>\n",
       "      <td>0.0</td>\n",
       "      <td>0.0</td>\n",
       "      <td>0.0</td>\n",
       "      <td>0.0</td>\n",
       "      <td>0.0</td>\n",
       "    </tr>\n",
       "    <tr>\n",
       "      <th>4</th>\n",
       "      <td>0.0</td>\n",
       "      <td>0.0</td>\n",
       "      <td>0.0</td>\n",
       "      <td>0.0</td>\n",
       "      <td>0.0</td>\n",
       "      <td>0.0</td>\n",
       "      <td>0.0</td>\n",
       "      <td>0.0</td>\n",
       "      <td>0.0</td>\n",
       "      <td>0.0</td>\n",
       "      <td>...</td>\n",
       "      <td>0.0</td>\n",
       "      <td>0.0</td>\n",
       "      <td>0.0</td>\n",
       "      <td>0.0</td>\n",
       "      <td>0.0</td>\n",
       "      <td>0.0</td>\n",
       "      <td>0.0</td>\n",
       "      <td>0.0</td>\n",
       "      <td>0.0</td>\n",
       "      <td>0.0</td>\n",
       "    </tr>\n",
       "  </tbody>\n",
       "</table>\n",
       "<p>5 rows × 1398 columns</p>\n",
       "</div>"
      ],
      "text/plain": [
       "ProductId   1304139212  1304139220  130414089X  130414643X  1304146537  \\\n",
       "user_index                                                               \n",
       "0                  0.0         0.0         0.0         0.0         0.0   \n",
       "1                  0.0         0.0         0.0         0.0         0.0   \n",
       "2                  0.0         0.0         0.0         0.0         0.0   \n",
       "3                  0.0         0.0         0.0         0.0         0.0   \n",
       "4                  0.0         0.0         0.0         0.0         0.0   \n",
       "\n",
       "ProductId   130414674X  1304168522  1304174778  1304174867  1304174905  ...  \\\n",
       "user_index                                                              ...   \n",
       "0                  0.0         0.0         0.0         0.0         0.0  ...   \n",
       "1                  0.0         0.0         0.0         0.0         0.0  ...   \n",
       "2                  0.0         0.0         0.0         0.0         0.0  ...   \n",
       "3                  0.0         0.0         0.0         0.0         0.0  ...   \n",
       "4                  0.0         0.0         0.0         0.0         0.0  ...   \n",
       "\n",
       "ProductId   B00005BJ8X  B00005BJ91  B00005BL1R  B00005BLRH  B00005BWXD  \\\n",
       "user_index                                                               \n",
       "0                  0.0         0.0         0.0         0.0         0.0   \n",
       "1                  0.0         0.0         0.0         0.0         0.0   \n",
       "2                  0.0         0.0         0.0         0.0         0.0   \n",
       "3                  0.0         0.0         0.0         0.0         0.0   \n",
       "4                  0.0         0.0         0.0         0.0         0.0   \n",
       "\n",
       "ProductId   B00005CDRP  B00005CDRY  B00005CDS5  B00005CDS7  B00005CDS9  \n",
       "user_index                                                              \n",
       "0                  0.0         0.0         0.0         0.0         0.0  \n",
       "1                  0.0         0.0         0.0         0.0         0.0  \n",
       "2                  0.0         0.0         0.0         0.0         0.0  \n",
       "3                  0.0         0.0         0.0         0.0         0.0  \n",
       "4                  0.0         0.0         0.0         0.0         0.0  \n",
       "\n",
       "[5 rows x 1398 columns]"
      ]
     },
     "execution_count": 48,
     "metadata": {},
     "output_type": "execute_result"
    }
   ],
   "source": [
    "pivot_df.set_index(['user_index'], inplace=True)\n",
    "# Actual ratings given by users\n",
    "pivot_df.head()"
   ]
  },
  {
   "cell_type": "markdown",
   "id": "dff56cd9",
   "metadata": {},
   "source": [
    "# Singular Value Decomposition(SVD)\n"
   ]
  },
  {
   "cell_type": "code",
   "execution_count": 49,
   "id": "93991171",
   "metadata": {},
   "outputs": [],
   "source": [
    "# Convert pivot_df to CSR format\n",
    "pivot_df_csr = scipy.sparse.csr_matrix(pivot_df)\n",
    "\n",
    "# Perform Singular Value Decomposition\n",
    "U, sigma, Vt = svds(pivot_df_csr, k=10)\n"
   ]
  },
  {
   "cell_type": "code",
   "execution_count": 50,
   "id": "d7bb2509",
   "metadata": {},
   "outputs": [
    {
     "name": "stdout",
     "output_type": "stream",
     "text": [
      "Left singular matrix: \n",
      " [[ 0.00000000e+00  9.00819539e-19  4.87890978e-19 ... -2.71050543e-19\n",
      "   6.26804381e-20  6.77626358e-20]\n",
      " [ 1.63645950e-06 -2.14115827e-08  1.60129639e-05 ...  9.47328543e-07\n",
      "  -1.59462702e-07 -1.23148248e-09]\n",
      " [ 3.09782143e-07 -7.10211677e-08 -1.46991546e-04 ...  2.62582303e-05\n",
      "  -1.35499118e-06 -1.37994448e-07]\n",
      " ...\n",
      " [ 1.82811578e-05  5.26718492e-10  2.31424048e-07 ...  6.83208996e-08\n",
      "   1.84553851e-10 -5.12467730e-04]\n",
      " [-9.46108252e-05  1.41064271e-07  1.03376481e-05 ...  2.19677925e-02\n",
      "  -1.28646658e-06 -4.09724462e-07]\n",
      " [ 1.15010668e-04 -9.21753132e-06 -8.34642537e-06 ...  4.70323945e-04\n",
      "  -4.53159598e-07 -5.37827732e-05]]\n"
     ]
    }
   ],
   "source": [
    "print('Left singular matrix: \\n',U)"
   ]
  },
  {
   "cell_type": "code",
   "execution_count": 51,
   "id": "f9d3a95a",
   "metadata": {},
   "outputs": [
    {
     "name": "stdout",
     "output_type": "stream",
     "text": [
      "Sigma: \n",
      " [ 72.83574206  74.64508389  84.41787224  84.95344472  85.11370566\n",
      "  87.09073573  88.3889385   89.17796134  94.47939493 111.31593034]\n"
     ]
    }
   ],
   "source": [
    "\n",
    "print('Sigma: \\n',sigma)"
   ]
  },
  {
   "cell_type": "code",
   "execution_count": 52,
   "id": "b0226ecd",
   "metadata": {},
   "outputs": [
    {
     "name": "stdout",
     "output_type": "stream",
     "text": [
      "Diagonal matrix: \n",
      " [[ 72.83574206   0.           0.           0.           0.\n",
      "    0.           0.           0.           0.           0.        ]\n",
      " [  0.          74.64508389   0.           0.           0.\n",
      "    0.           0.           0.           0.           0.        ]\n",
      " [  0.           0.          84.41787224   0.           0.\n",
      "    0.           0.           0.           0.           0.        ]\n",
      " [  0.           0.           0.          84.95344472   0.\n",
      "    0.           0.           0.           0.           0.        ]\n",
      " [  0.           0.           0.           0.          85.11370566\n",
      "    0.           0.           0.           0.           0.        ]\n",
      " [  0.           0.           0.           0.           0.\n",
      "   87.09073573   0.           0.           0.           0.        ]\n",
      " [  0.           0.           0.           0.           0.\n",
      "    0.          88.3889385    0.           0.           0.        ]\n",
      " [  0.           0.           0.           0.           0.\n",
      "    0.           0.          89.17796134   0.           0.        ]\n",
      " [  0.           0.           0.           0.           0.\n",
      "    0.           0.           0.          94.47939493   0.        ]\n",
      " [  0.           0.           0.           0.           0.\n",
      "    0.           0.           0.           0.         111.31593034]]\n"
     ]
    }
   ],
   "source": [
    "# Construct diagonal array in SVD\n",
    "sigma = np.diag(sigma)\n",
    "print('Diagonal matrix: \\n',sigma)"
   ]
  },
  {
   "cell_type": "code",
   "execution_count": 53,
   "id": "978f9522",
   "metadata": {},
   "outputs": [
    {
     "name": "stdout",
     "output_type": "stream",
     "text": [
      "Right singular matrix: \n",
      " [[ 0.00000000e+00 -5.50633853e-17 -6.95243328e-18 ...  5.60002753e-17\n",
      "   2.78060164e-18  5.80893862e-17]\n",
      " [ 2.32205612e-17 -1.49987210e-32  1.67841790e-17 ... -9.54467588e-18\n",
      "   3.23227147e-17  4.79269862e-17]\n",
      " [-1.62630326e-19  1.92602057e-18  3.13238257e-31 ...  3.59319560e-17\n",
      "  -1.32530122e-17 -9.00140721e-17]\n",
      " ...\n",
      " [ 9.10729825e-18 -2.06692980e-17 -5.42101086e-19 ... -2.56678056e-18\n",
      "  -1.72733332e-17 -4.72104514e-17]\n",
      " [-8.62279540e-18  1.81438163e-17 -1.04083409e-17 ... -2.27081461e-17\n",
      "  -2.07662022e-17  1.97666902e-17]\n",
      " [ 1.68178392e-17 -3.40252076e-17  1.50178942e-17 ...  3.27388560e-17\n",
      "   3.77800666e-17 -1.65114608e-17]]\n"
     ]
    }
   ],
   "source": [
    "print('Right singular matrix: \\n',Vt)"
   ]
  },
  {
   "cell_type": "code",
   "execution_count": 54,
   "id": "48496410",
   "metadata": {},
   "outputs": [
    {
     "data": {
      "text/html": [
       "<div>\n",
       "<style scoped>\n",
       "    .dataframe tbody tr th:only-of-type {\n",
       "        vertical-align: middle;\n",
       "    }\n",
       "\n",
       "    .dataframe tbody tr th {\n",
       "        vertical-align: top;\n",
       "    }\n",
       "\n",
       "    .dataframe thead th {\n",
       "        text-align: right;\n",
       "    }\n",
       "</style>\n",
       "<table border=\"1\" class=\"dataframe\">\n",
       "  <thead>\n",
       "    <tr style=\"text-align: right;\">\n",
       "      <th>ProductId</th>\n",
       "      <th>1304139212</th>\n",
       "      <th>1304139220</th>\n",
       "      <th>130414089X</th>\n",
       "      <th>130414643X</th>\n",
       "      <th>1304146537</th>\n",
       "      <th>130414674X</th>\n",
       "      <th>1304168522</th>\n",
       "      <th>1304174778</th>\n",
       "      <th>1304174867</th>\n",
       "      <th>1304174905</th>\n",
       "      <th>...</th>\n",
       "      <th>B00005BJ8X</th>\n",
       "      <th>B00005BJ91</th>\n",
       "      <th>B00005BL1R</th>\n",
       "      <th>B00005BLRH</th>\n",
       "      <th>B00005BWXD</th>\n",
       "      <th>B00005CDRP</th>\n",
       "      <th>B00005CDRY</th>\n",
       "      <th>B00005CDS5</th>\n",
       "      <th>B00005CDS7</th>\n",
       "      <th>B00005CDS9</th>\n",
       "    </tr>\n",
       "  </thead>\n",
       "  <tbody>\n",
       "    <tr>\n",
       "      <th>0</th>\n",
       "      <td>3.233634e-33</td>\n",
       "      <td>-3.530751e-33</td>\n",
       "      <td>2.305200e-33</td>\n",
       "      <td>-2.342007e-33</td>\n",
       "      <td>1.162882e-34</td>\n",
       "      <td>7.354443e-33</td>\n",
       "      <td>-6.517520e-33</td>\n",
       "      <td>-6.257537e-33</td>\n",
       "      <td>-7.277751e-33</td>\n",
       "      <td>2.158023e-33</td>\n",
       "      <td>...</td>\n",
       "      <td>8.144253e-34</td>\n",
       "      <td>2.933003e-33</td>\n",
       "      <td>-6.781904e-23</td>\n",
       "      <td>7.352911e-24</td>\n",
       "      <td>-1.467195e-22</td>\n",
       "      <td>-2.969733e-33</td>\n",
       "      <td>-1.481816e-23</td>\n",
       "      <td>-3.194504e-34</td>\n",
       "      <td>3.000490e-33</td>\n",
       "      <td>1.360571e-33</td>\n",
       "    </tr>\n",
       "    <tr>\n",
       "      <th>1</th>\n",
       "      <td>4.083391e-20</td>\n",
       "      <td>-1.027974e-19</td>\n",
       "      <td>-1.353904e-20</td>\n",
       "      <td>1.253254e-20</td>\n",
       "      <td>6.662729e-20</td>\n",
       "      <td>1.454235e-19</td>\n",
       "      <td>-5.090602e-20</td>\n",
       "      <td>-4.781004e-20</td>\n",
       "      <td>-9.918504e-20</td>\n",
       "      <td>3.467469e-20</td>\n",
       "      <td>...</td>\n",
       "      <td>5.679851e-21</td>\n",
       "      <td>2.546876e-20</td>\n",
       "      <td>3.204049e-09</td>\n",
       "      <td>3.658990e-10</td>\n",
       "      <td>7.553598e-10</td>\n",
       "      <td>-4.021855e-20</td>\n",
       "      <td>8.410788e-12</td>\n",
       "      <td>1.370274e-19</td>\n",
       "      <td>4.678890e-21</td>\n",
       "      <td>8.593465e-20</td>\n",
       "    </tr>\n",
       "    <tr>\n",
       "      <th>2</th>\n",
       "      <td>1.663272e-19</td>\n",
       "      <td>-4.392008e-19</td>\n",
       "      <td>3.760465e-20</td>\n",
       "      <td>-1.217940e-19</td>\n",
       "      <td>1.213250e-19</td>\n",
       "      <td>4.739600e-19</td>\n",
       "      <td>-2.363547e-19</td>\n",
       "      <td>-5.092048e-19</td>\n",
       "      <td>-4.567250e-19</td>\n",
       "      <td>1.422700e-19</td>\n",
       "      <td>...</td>\n",
       "      <td>6.007156e-20</td>\n",
       "      <td>2.032117e-19</td>\n",
       "      <td>7.183413e-08</td>\n",
       "      <td>1.920767e-08</td>\n",
       "      <td>2.301105e-09</td>\n",
       "      <td>-1.897459e-19</td>\n",
       "      <td>3.714550e-09</td>\n",
       "      <td>-1.216650e-18</td>\n",
       "      <td>7.617129e-21</td>\n",
       "      <td>2.468727e-18</td>\n",
       "    </tr>\n",
       "    <tr>\n",
       "      <th>3</th>\n",
       "      <td>1.496880e-22</td>\n",
       "      <td>-3.698159e-21</td>\n",
       "      <td>-3.874267e-22</td>\n",
       "      <td>4.513690e-22</td>\n",
       "      <td>2.800500e-21</td>\n",
       "      <td>3.947807e-21</td>\n",
       "      <td>-1.951690e-21</td>\n",
       "      <td>9.795813e-22</td>\n",
       "      <td>-4.352082e-21</td>\n",
       "      <td>1.151068e-21</td>\n",
       "      <td>...</td>\n",
       "      <td>-1.163360e-22</td>\n",
       "      <td>-4.123294e-22</td>\n",
       "      <td>5.923132e-10</td>\n",
       "      <td>1.684895e-11</td>\n",
       "      <td>1.932988e-10</td>\n",
       "      <td>-5.786153e-22</td>\n",
       "      <td>4.624619e-12</td>\n",
       "      <td>2.140643e-21</td>\n",
       "      <td>2.380268e-22</td>\n",
       "      <td>6.074259e-21</td>\n",
       "    </tr>\n",
       "    <tr>\n",
       "      <th>4</th>\n",
       "      <td>-3.635926e-33</td>\n",
       "      <td>2.667633e-33</td>\n",
       "      <td>-2.829919e-33</td>\n",
       "      <td>3.759288e-33</td>\n",
       "      <td>3.777292e-34</td>\n",
       "      <td>-8.209735e-33</td>\n",
       "      <td>7.929480e-33</td>\n",
       "      <td>9.811656e-33</td>\n",
       "      <td>5.579572e-33</td>\n",
       "      <td>-1.306212e-33</td>\n",
       "      <td>...</td>\n",
       "      <td>-1.314290e-33</td>\n",
       "      <td>-4.685616e-33</td>\n",
       "      <td>4.118502e-23</td>\n",
       "      <td>-5.619785e-23</td>\n",
       "      <td>-1.437290e-22</td>\n",
       "      <td>3.627289e-33</td>\n",
       "      <td>-8.851359e-24</td>\n",
       "      <td>1.471630e-33</td>\n",
       "      <td>-5.165446e-33</td>\n",
       "      <td>-3.044343e-33</td>\n",
       "    </tr>\n",
       "  </tbody>\n",
       "</table>\n",
       "<p>5 rows × 1398 columns</p>\n",
       "</div>"
      ],
      "text/plain": [
       "ProductId    1304139212    1304139220    130414089X    130414643X  \\\n",
       "0          3.233634e-33 -3.530751e-33  2.305200e-33 -2.342007e-33   \n",
       "1          4.083391e-20 -1.027974e-19 -1.353904e-20  1.253254e-20   \n",
       "2          1.663272e-19 -4.392008e-19  3.760465e-20 -1.217940e-19   \n",
       "3          1.496880e-22 -3.698159e-21 -3.874267e-22  4.513690e-22   \n",
       "4         -3.635926e-33  2.667633e-33 -2.829919e-33  3.759288e-33   \n",
       "\n",
       "ProductId    1304146537    130414674X    1304168522    1304174778  \\\n",
       "0          1.162882e-34  7.354443e-33 -6.517520e-33 -6.257537e-33   \n",
       "1          6.662729e-20  1.454235e-19 -5.090602e-20 -4.781004e-20   \n",
       "2          1.213250e-19  4.739600e-19 -2.363547e-19 -5.092048e-19   \n",
       "3          2.800500e-21  3.947807e-21 -1.951690e-21  9.795813e-22   \n",
       "4          3.777292e-34 -8.209735e-33  7.929480e-33  9.811656e-33   \n",
       "\n",
       "ProductId    1304174867    1304174905  ...    B00005BJ8X    B00005BJ91  \\\n",
       "0         -7.277751e-33  2.158023e-33  ...  8.144253e-34  2.933003e-33   \n",
       "1         -9.918504e-20  3.467469e-20  ...  5.679851e-21  2.546876e-20   \n",
       "2         -4.567250e-19  1.422700e-19  ...  6.007156e-20  2.032117e-19   \n",
       "3         -4.352082e-21  1.151068e-21  ... -1.163360e-22 -4.123294e-22   \n",
       "4          5.579572e-33 -1.306212e-33  ... -1.314290e-33 -4.685616e-33   \n",
       "\n",
       "ProductId    B00005BL1R    B00005BLRH    B00005BWXD    B00005CDRP  \\\n",
       "0         -6.781904e-23  7.352911e-24 -1.467195e-22 -2.969733e-33   \n",
       "1          3.204049e-09  3.658990e-10  7.553598e-10 -4.021855e-20   \n",
       "2          7.183413e-08  1.920767e-08  2.301105e-09 -1.897459e-19   \n",
       "3          5.923132e-10  1.684895e-11  1.932988e-10 -5.786153e-22   \n",
       "4          4.118502e-23 -5.619785e-23 -1.437290e-22  3.627289e-33   \n",
       "\n",
       "ProductId    B00005CDRY    B00005CDS5    B00005CDS7    B00005CDS9  \n",
       "0         -1.481816e-23 -3.194504e-34  3.000490e-33  1.360571e-33  \n",
       "1          8.410788e-12  1.370274e-19  4.678890e-21  8.593465e-20  \n",
       "2          3.714550e-09 -1.216650e-18  7.617129e-21  2.468727e-18  \n",
       "3          4.624619e-12  2.140643e-21  2.380268e-22  6.074259e-21  \n",
       "4         -8.851359e-24  1.471630e-33 -5.165446e-33 -3.044343e-33  \n",
       "\n",
       "[5 rows x 1398 columns]"
      ]
     },
     "execution_count": 54,
     "metadata": {},
     "output_type": "execute_result"
    }
   ],
   "source": [
    "#Predicted ratings\n",
    "all_user_predicted_ratings = np.dot(np.dot(U, sigma), Vt) \n",
    "# Convert predicted ratings to dataframe\n",
    "preds_df = pd.DataFrame(all_user_predicted_ratings, columns = pivot_df.columns)\n",
    "preds_df.head()"
   ]
  },
  {
   "cell_type": "markdown",
   "id": "ca73f5c6",
   "metadata": {},
   "source": [
    "# Top 5  Recommend item for user id _ _ _ _ _"
   ]
  },
  {
   "cell_type": "code",
   "execution_count": 55,
   "id": "a7e5e6d0",
   "metadata": {},
   "outputs": [
    {
     "name": "stdout",
     "output_type": "stream",
     "text": [
      "Enter User ID: 2563\n",
      "           subCategory   articleType\n",
      "ProductId                           \n",
      "B000052XZP     Topwear        Shirts\n",
      "B000052YM3       Shoes  Casual Shoes\n",
      "B000052YM4  Bottomwear        Shorts\n",
      "B000052YM7     Topwear       Tshirts\n",
      "B0000536P4       Belts         Belts\n"
     ]
    }
   ],
   "source": [
    "def recommend_items_with_userID_and_count(user_id):\n",
    "    # Get and sort the user's predicted ratings\n",
    "    user_idx = user_id - 1  # Index starts at 0\n",
    "    sorted_user_predictions = preds_df.iloc[user_idx].sort_values(ascending=False)\n",
    "    \n",
    "    # Filter items that the user hasn't rated (user_ratings == 0)\n",
    "    num_recommendations = 5  # Number of recommendations to return\n",
    "    recommended_item_ids = sorted_user_predictions.index[:num_recommendations]\n",
    "    \n",
    "    # Retrieve recommended items' information from the data DataFrame\n",
    "    recommended_items_info = data[data['ProductId'].isin(recommended_item_ids)]\n",
    "    \n",
    "    # Group by ProductId and keep the row with the highest user_prediction\n",
    "    unique_recommended_items_info = recommended_items_info.sort_values('Rating', ascending=False) \\\n",
    "                                                           .groupby('ProductId') \\\n",
    "                                                           .first()\n",
    "    \n",
    "    recommended_products = unique_recommended_items_info[['subCategory', 'articleType']]\n",
    "    return recommended_products\n",
    "\n",
    "# Take user input for the user ID\n",
    "user_id = int(input(\"Enter User ID: \"))\n",
    "\n",
    "# Call the function and get the top recommended products\n",
    "recommended_products = recommend_items_with_userID_and_count(user_id)\n",
    "print(recommended_products)\n"
   ]
  },
  {
   "cell_type": "markdown",
   "id": "04ecff97",
   "metadata": {},
   "source": [
    "# Recommendation System - Part III\n",
    "This is a search engine-based recommendation system for customers of a company without any user-item purchase history. The textual clustering analysis provided in the product description may serve as the basis for the product suggestions.\n",
    "\n",
    "in this system user enter any keyword and its search in dataset best matching product and recommend top 5 products\n",
    "\n",
    "For this system we are using cosine similarity algorithm from countvectorization\n"
   ]
  },
  {
   "cell_type": "code",
   "execution_count": 56,
   "id": "260856e1",
   "metadata": {},
   "outputs": [],
   "source": [
    "def lowercase_tags(x):\n",
    "    if isinstance(x, str):\n",
    "        return x.lower()\n",
    "    else:\n",
    "        return x\n",
    "\n",
    "data['productDisplayName'] = data['productDisplayName'].apply(lowercase_tags)"
   ]
  },
  {
   "cell_type": "code",
   "execution_count": 57,
   "id": "a3057e37",
   "metadata": {},
   "outputs": [],
   "source": [
    "from sklearn.feature_extraction.text import CountVectorizer"
   ]
  },
  {
   "cell_type": "code",
   "execution_count": 58,
   "id": "33340afe",
   "metadata": {},
   "outputs": [],
   "source": [
    "data['productDisplayName'].fillna('missing', inplace=True)\n",
    "\n",
    "# Create a CountVectorizer instance\n",
    "cv =CountVectorizer(max_features=5000,stop_words = 'english')\n",
    "# Fit and transform the 'tag' column using CountVectorizer\n",
    "tag_transformed = cv.fit_transform(data['productDisplayName'])\n",
    "\n",
    "# Convert the result to a NumPy array\n",
    "tag_array = tag_transformed.toarray()\n"
   ]
  },
  {
   "cell_type": "code",
   "execution_count": 59,
   "id": "42ad9c32",
   "metadata": {},
   "outputs": [
    {
     "data": {
      "text/plain": [
       "(19996, 5000)"
      ]
     },
     "execution_count": 59,
     "metadata": {},
     "output_type": "execute_result"
    }
   ],
   "source": [
    "tag_array.shape"
   ]
  },
  {
   "cell_type": "code",
   "execution_count": 60,
   "id": "f937edde",
   "metadata": {},
   "outputs": [
    {
     "data": {
      "text/plain": [
       "array([0, 0, 0, ..., 0, 0, 0], dtype=int64)"
      ]
     },
     "execution_count": 60,
     "metadata": {},
     "output_type": "execute_result"
    }
   ],
   "source": [
    "tag_array[1]"
   ]
  },
  {
   "cell_type": "code",
   "execution_count": 61,
   "id": "b17325db",
   "metadata": {},
   "outputs": [],
   "source": [
    "feature_names = cv.get_feature_names_out()"
   ]
  },
  {
   "cell_type": "code",
   "execution_count": 62,
   "id": "b47f7c34",
   "metadata": {},
   "outputs": [
    {
     "data": {
      "text/plain": [
       "array(['001', '002', '003', ..., 'zoom', 'zoro', 'zurigo'], dtype=object)"
      ]
     },
     "execution_count": 62,
     "metadata": {},
     "output_type": "execute_result"
    }
   ],
   "source": [
    "feature_names"
   ]
  },
  {
   "cell_type": "markdown",
   "id": "b4e85793",
   "metadata": {},
   "source": [
    " Implementing the cosine similarity alogorithm for measuring the similarity between products"
   ]
  },
  {
   "cell_type": "code",
   "execution_count": 63,
   "id": "75045a05",
   "metadata": {},
   "outputs": [],
   "source": [
    "from sklearn.metrics.pairwise import cosine_similarity"
   ]
  },
  {
   "cell_type": "code",
   "execution_count": 64,
   "id": "88801200",
   "metadata": {},
   "outputs": [],
   "source": [
    "similarity = cosine_similarity(tag_array)"
   ]
  },
  {
   "cell_type": "code",
   "execution_count": 65,
   "id": "f7aec142",
   "metadata": {},
   "outputs": [
    {
     "data": {
      "text/plain": [
       "(19996, 19996)"
      ]
     },
     "execution_count": 65,
     "metadata": {},
     "output_type": "execute_result"
    }
   ],
   "source": [
    "similarity.shape"
   ]
  },
  {
   "cell_type": "markdown",
   "id": "68118cca",
   "metadata": {},
   "source": [
    " Converting all keywords in lower case for better search accuracy"
   ]
  },
  {
   "cell_type": "code",
   "execution_count": 66,
   "id": "b8db82e0",
   "metadata": {},
   "outputs": [
    {
     "name": "stdout",
     "output_type": "stream",
     "text": [
      "Enter a keyword: kurta\n",
      "w women peach kurta\n",
      "mother earth women printed cream kurta\n",
      "mother earth women printed yellow kurta\n",
      "lino perros women leatherite brown handbag\n",
      "biba women printed multi coloured kurta\n"
     ]
    }
   ],
   "source": [
    "def recommend(keyword):\n",
    "    keyword = keyword.lower()  # Convert keyword to lowercase\n",
    "    \n",
    "    # Search for matching tags using a more lenient approach\n",
    "    keyword_matches = data[data['productDisplayName'].str.lower().str.contains(keyword)]\n",
    "\n",
    "    if not keyword_matches.empty:\n",
    "        keyword_indices = keyword_matches.index\n",
    "        product_list = sorted(list(enumerate(similarity[keyword_indices].max(axis=0))), reverse=True, key=lambda x: x[1])[1:6]\n",
    "\n",
    "        for i in product_list:\n",
    "            original_index = i[0]\n",
    "            print(data.iloc[original_index].productDisplayName)\n",
    "    else:\n",
    "        print(f\"No matches found for keyword: {keyword}\")\n",
    "\n",
    "keyword_input = input(\"Enter a keyword: \")\n",
    "recommend(keyword_input) "
   ]
  },
  {
   "cell_type": "markdown",
   "id": "408257f2",
   "metadata": {},
   "source": [
    "# HYBRID RECOMMENDATION SYSTEM \n",
    "\n",
    "This is a hybrid recommendation system which return the product based on the user history and search keyword .\n",
    "for example :- a user have id 653 looking for a pant than this model give recommendation basis on his purchase history and keyword searching \n"
   ]
  },
  {
   "cell_type": "code",
   "execution_count": null,
   "id": "fb18c1e0",
   "metadata": {},
   "outputs": [],
   "source": [
    "def ensemble_recommendation(user_id, pivot_df, preds_df, data, keyword):\n",
    "    # Method 1: Collaborative Filtering with Predicted Ratings\n",
    "    user_idx = user_id - 1\n",
    "    sorted_user_predictions = preds_df.iloc[user_idx].sort_values(ascending=False)\n",
    "    collaborative_recommendations = sorted_user_predictions.index\n",
    "\n",
    "    # Method 2: Textual Clustering-Based Recommendation\n",
    "    keyword_recommendations = recommend(keyword)\n",
    "    if keyword_recommendations is None:\n",
    "        keyword_recommendations = []  # Handle the case of no recommendations\n",
    "\n",
    "    # Combine recommendations from collaborative filtering and keyword search\n",
    "    all_recommendations = set(collaborative_recommendations) | set(keyword_recommendations)\n",
    "\n",
    "    # Filter out items the user has already rated or been recommended\n",
    "    user_rated_products = data[data['UserId'] == user_id]['ProductId']\n",
    "    final_recommendations = [item for item in all_recommendations if item not in user_rated_products]\n",
    "\n",
    "    # Retrieve recommended items' information from the data DataFrame\n",
    "    recommended_items_info = data[data['ProductId'].isin(final_recommendations)]\n",
    "    unique_recommended_items_info = recommended_items_info.drop_duplicates(subset=['ProductId'])\n",
    "\n",
    "    # Show the top 5 combined recommendations\n",
    "    top_combined_recommendations = unique_recommended_items_info.head(5)\n",
    "    \n",
    "    return top_combined_recommendations\n",
    "\n",
    "# Take user input for user ID and keyword\n",
    "user_id = int(input(\"Enter User ID: \"))\n",
    "keyword_input = input(\"Enter a keyword: \")\n",
    "\n",
    "# Call the ensemble recommendation function\n",
    "combined_recommendations = ensemble_recommendation(user_id, pivot_df, preds_df, data, keyword_input)\n",
    "\n",
    "print('\\nFinal Combined Recommended Items for User ID {}:\\n'.format(user_id))\n",
    "print(combined_recommendations[['ProductId', 'subCategory', 'articleType']])\n"
   ]
  },
  {
   "cell_type": "markdown",
   "id": "565c809e",
   "metadata": {},
   "source": [
    "For above user(id = 653) this model recommend products have product ids [205616461,558925272,733001998,737104473,762451459]"
   ]
  },
  {
   "cell_type": "markdown",
   "id": "621893e0",
   "metadata": {},
   "source": [
    "# Evaluation of Collabrative recommendation model"
   ]
  },
  {
   "cell_type": "code",
   "execution_count": null,
   "id": "38b1d486",
   "metadata": {},
   "outputs": [],
   "source": [
    "rmse_df = pd.concat([pivot_df.mean(), preds_df.mean()], axis=1)\n",
    "rmse_df.columns = ['Avg_actual_ratings', 'Avg_predicted_ratings']\n",
    "print(rmse_df.shape)\n",
    "rmse_df['item_index'] = np.arange(0, rmse_df.shape[0], 1)\n",
    "rmse_df.head()"
   ]
  },
  {
   "cell_type": "code",
   "execution_count": null,
   "id": "8901c56a",
   "metadata": {},
   "outputs": [],
   "source": [
    "RMSE = round((((rmse_df.Avg_actual_ratings - rmse_df.Avg_predicted_ratings) ** 2).mean() ** 0.5), 5)\n",
    "print('\\nRMSE SVD Model = {} \\n'.format(RMSE))"
   ]
  },
  {
   "cell_type": "code",
   "execution_count": null,
   "id": "ddbf48ad",
   "metadata": {},
   "outputs": [],
   "source": []
  }
 ],
 "metadata": {
  "kernelspec": {
   "display_name": "Python 3 (ipykernel)",
   "language": "python",
   "name": "python3"
  },
  "language_info": {
   "codemirror_mode": {
    "name": "ipython",
    "version": 3
   },
   "file_extension": ".py",
   "mimetype": "text/x-python",
   "name": "python",
   "nbconvert_exporter": "python",
   "pygments_lexer": "ipython3",
   "version": "3.10.9"
  }
 },
 "nbformat": 4,
 "nbformat_minor": 5
}
